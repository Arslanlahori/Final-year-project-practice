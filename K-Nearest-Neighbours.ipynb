{
 "cells": [
  {
   "cell_type": "code",
   "execution_count": 1,
   "id": "8b457db6",
   "metadata": {},
   "outputs": [],
   "source": [
    "%matplotlib inline\n",
    "# from sklearn.linear_model import LogisticRegression\n",
    "from sklearn.neighbors import KNeighborsClassifier\n",
    "import pandas as pd\n",
    "from sklearn.tree import DecisionTreeClassifier\n",
    "import numpy as np\n",
    "import matplotlib.pyplot as plt\n",
    "from sklearn.model_selection import train_test_split\n",
    "from sklearn.svm import SVC\n",
    "from sklearn.metrics import classification_report\n",
    "from sklearn.metrics import accuracy_score\n",
    "import seaborn as sns\n",
    "from sklearn import preprocessing\n",
    "from sklearn.ensemble import GradientBoostingClassifier"
   ]
  },
  {
   "cell_type": "code",
   "execution_count": 2,
   "id": "174a8d63",
   "metadata": {},
   "outputs": [
    {
     "data": {
      "text/html": [
       "<div>\n",
       "<style scoped>\n",
       "    .dataframe tbody tr th:only-of-type {\n",
       "        vertical-align: middle;\n",
       "    }\n",
       "\n",
       "    .dataframe tbody tr th {\n",
       "        vertical-align: top;\n",
       "    }\n",
       "\n",
       "    .dataframe thead th {\n",
       "        text-align: right;\n",
       "    }\n",
       "</style>\n",
       "<table border=\"1\" class=\"dataframe\">\n",
       "  <thead>\n",
       "    <tr style=\"text-align: right;\">\n",
       "      <th></th>\n",
       "      <th>NDVI</th>\n",
       "      <th>Max Temp</th>\n",
       "      <th>Ave Temp</th>\n",
       "      <th>Min Temp</th>\n",
       "      <th>Ave Humidity</th>\n",
       "      <th>Rainfall</th>\n",
       "      <th>Crop_Type</th>\n",
       "    </tr>\n",
       "  </thead>\n",
       "  <tbody>\n",
       "    <tr>\n",
       "      <th>0</th>\n",
       "      <td>0.2518</td>\n",
       "      <td>1.705882</td>\n",
       "      <td>-1.476471</td>\n",
       "      <td>-5.411765</td>\n",
       "      <td>85.888235</td>\n",
       "      <td>1.673529</td>\n",
       "      <td>corn</td>\n",
       "    </tr>\n",
       "    <tr>\n",
       "      <th>1</th>\n",
       "      <td>0.3869</td>\n",
       "      <td>1.705882</td>\n",
       "      <td>-1.476471</td>\n",
       "      <td>-5.411765</td>\n",
       "      <td>85.888235</td>\n",
       "      <td>1.673529</td>\n",
       "      <td>corn</td>\n",
       "    </tr>\n",
       "    <tr>\n",
       "      <th>2</th>\n",
       "      <td>0.2607</td>\n",
       "      <td>7.857143</td>\n",
       "      <td>1.678571</td>\n",
       "      <td>-4.142857</td>\n",
       "      <td>77.725000</td>\n",
       "      <td>0.516786</td>\n",
       "      <td>corn</td>\n",
       "    </tr>\n",
       "    <tr>\n",
       "      <th>3</th>\n",
       "      <td>0.2353</td>\n",
       "      <td>7.857143</td>\n",
       "      <td>1.678571</td>\n",
       "      <td>-4.142857</td>\n",
       "      <td>77.725000</td>\n",
       "      <td>0.516786</td>\n",
       "      <td>corn</td>\n",
       "    </tr>\n",
       "    <tr>\n",
       "      <th>4</th>\n",
       "      <td>0.2536</td>\n",
       "      <td>6.576923</td>\n",
       "      <td>2.757692</td>\n",
       "      <td>-1.153846</td>\n",
       "      <td>74.657692</td>\n",
       "      <td>1.993077</td>\n",
       "      <td>corn</td>\n",
       "    </tr>\n",
       "  </tbody>\n",
       "</table>\n",
       "</div>"
      ],
      "text/plain": [
       "     NDVI  Max Temp  Ave Temp  Min Temp  Ave Humidity  Rainfall Crop_Type\n",
       "0  0.2518  1.705882 -1.476471 -5.411765     85.888235  1.673529      corn\n",
       "1  0.3869  1.705882 -1.476471 -5.411765     85.888235  1.673529      corn\n",
       "2  0.2607  7.857143  1.678571 -4.142857     77.725000  0.516786      corn\n",
       "3  0.2353  7.857143  1.678571 -4.142857     77.725000  0.516786      corn\n",
       "4  0.2536  6.576923  2.757692 -1.153846     74.657692  1.993077      corn"
      ]
     },
     "execution_count": 2,
     "metadata": {},
     "output_type": "execute_result"
    }
   ],
   "source": [
    "# load the dataset\n",
    "# df = pd.read_csv(r'D:\\Final Year Project\\final project\\Dataset-1.csv')\n",
    "# df = pd.read_csv(r'D:\\Final Year Project\\final project\\Dataset (Original).csv')\n",
    "df = pd.read_csv(r'D:\\Final Year Project\\final project\\Dataset (Original1).csv') #longitude and latitude are remove\n",
    "df.head()\n"
   ]
  },
  {
   "cell_type": "code",
   "execution_count": 3,
   "id": "54a22811",
   "metadata": {},
   "outputs": [
    {
     "data": {
      "text/plain": [
       "(1048575, 7)"
      ]
     },
     "execution_count": 3,
     "metadata": {},
     "output_type": "execute_result"
    }
   ],
   "source": [
    "#check the dimension of dataset\n",
    "df.shape"
   ]
  },
  {
   "cell_type": "code",
   "execution_count": 4,
   "id": "0db25cff",
   "metadata": {},
   "outputs": [],
   "source": [
    "# delete duplicate rows\n",
    "df.drop_duplicates(inplace=True)"
   ]
  },
  {
   "cell_type": "code",
   "execution_count": 5,
   "id": "9bd9d658",
   "metadata": {},
   "outputs": [
    {
     "data": {
      "text/plain": [
       "(236670, 7)"
      ]
     },
     "execution_count": 5,
     "metadata": {},
     "output_type": "execute_result"
    }
   ],
   "source": [
    "#check the dimension of dataset\n",
    "df.shape"
   ]
  },
  {
   "cell_type": "code",
   "execution_count": 6,
   "id": "33a213ea",
   "metadata": {},
   "outputs": [
    {
     "data": {
      "text/html": [
       "<div>\n",
       "<style scoped>\n",
       "    .dataframe tbody tr th:only-of-type {\n",
       "        vertical-align: middle;\n",
       "    }\n",
       "\n",
       "    .dataframe tbody tr th {\n",
       "        vertical-align: top;\n",
       "    }\n",
       "\n",
       "    .dataframe thead th {\n",
       "        text-align: right;\n",
       "    }\n",
       "</style>\n",
       "<table border=\"1\" class=\"dataframe\">\n",
       "  <thead>\n",
       "    <tr style=\"text-align: right;\">\n",
       "      <th></th>\n",
       "      <th>NDVI</th>\n",
       "      <th>Max Temp</th>\n",
       "      <th>Ave Temp</th>\n",
       "      <th>Min Temp</th>\n",
       "      <th>Ave Humidity</th>\n",
       "      <th>Rainfall</th>\n",
       "    </tr>\n",
       "  </thead>\n",
       "  <tbody>\n",
       "    <tr>\n",
       "      <th>count</th>\n",
       "      <td>236646.000000</td>\n",
       "      <td>236670.000000</td>\n",
       "      <td>236670.000000</td>\n",
       "      <td>236670.000000</td>\n",
       "      <td>236670.000000</td>\n",
       "      <td>236670.000000</td>\n",
       "    </tr>\n",
       "    <tr>\n",
       "      <th>mean</th>\n",
       "      <td>0.405153</td>\n",
       "      <td>18.435591</td>\n",
       "      <td>13.418899</td>\n",
       "      <td>8.266095</td>\n",
       "      <td>68.126936</td>\n",
       "      <td>1.705585</td>\n",
       "    </tr>\n",
       "    <tr>\n",
       "      <th>std</th>\n",
       "      <td>0.225452</td>\n",
       "      <td>9.339313</td>\n",
       "      <td>9.012335</td>\n",
       "      <td>8.983647</td>\n",
       "      <td>15.411030</td>\n",
       "      <td>1.587582</td>\n",
       "    </tr>\n",
       "    <tr>\n",
       "      <th>min</th>\n",
       "      <td>-0.192100</td>\n",
       "      <td>-14.708333</td>\n",
       "      <td>-9.266667</td>\n",
       "      <td>-10.083333</td>\n",
       "      <td>-56.762500</td>\n",
       "      <td>-0.190833</td>\n",
       "    </tr>\n",
       "    <tr>\n",
       "      <th>25%</th>\n",
       "      <td>0.243800</td>\n",
       "      <td>11.774194</td>\n",
       "      <td>4.848387</td>\n",
       "      <td>-0.903226</td>\n",
       "      <td>64.080645</td>\n",
       "      <td>0.314800</td>\n",
       "    </tr>\n",
       "    <tr>\n",
       "      <th>50%</th>\n",
       "      <td>0.361400</td>\n",
       "      <td>20.548387</td>\n",
       "      <td>14.838710</td>\n",
       "      <td>8.870968</td>\n",
       "      <td>70.741935</td>\n",
       "      <td>1.286452</td>\n",
       "    </tr>\n",
       "    <tr>\n",
       "      <th>75%</th>\n",
       "      <td>0.557500</td>\n",
       "      <td>25.545455</td>\n",
       "      <td>21.538710</td>\n",
       "      <td>15.233333</td>\n",
       "      <td>75.676000</td>\n",
       "      <td>2.506333</td>\n",
       "    </tr>\n",
       "    <tr>\n",
       "      <th>max</th>\n",
       "      <td>0.994000</td>\n",
       "      <td>31.500000</td>\n",
       "      <td>27.479167</td>\n",
       "      <td>23.625000</td>\n",
       "      <td>86.613636</td>\n",
       "      <td>6.825161</td>\n",
       "    </tr>\n",
       "  </tbody>\n",
       "</table>\n",
       "</div>"
      ],
      "text/plain": [
       "                NDVI       Max Temp       Ave Temp       Min Temp  \\\n",
       "count  236646.000000  236670.000000  236670.000000  236670.000000   \n",
       "mean        0.405153      18.435591      13.418899       8.266095   \n",
       "std         0.225452       9.339313       9.012335       8.983647   \n",
       "min        -0.192100     -14.708333      -9.266667     -10.083333   \n",
       "25%         0.243800      11.774194       4.848387      -0.903226   \n",
       "50%         0.361400      20.548387      14.838710       8.870968   \n",
       "75%         0.557500      25.545455      21.538710      15.233333   \n",
       "max         0.994000      31.500000      27.479167      23.625000   \n",
       "\n",
       "        Ave Humidity       Rainfall  \n",
       "count  236670.000000  236670.000000  \n",
       "mean       68.126936       1.705585  \n",
       "std        15.411030       1.587582  \n",
       "min       -56.762500      -0.190833  \n",
       "25%        64.080645       0.314800  \n",
       "50%        70.741935       1.286452  \n",
       "75%        75.676000       2.506333  \n",
       "max        86.613636       6.825161  "
      ]
     },
     "execution_count": 6,
     "metadata": {},
     "output_type": "execute_result"
    }
   ],
   "source": [
    "df.describe()"
   ]
  },
  {
   "cell_type": "code",
   "execution_count": 7,
   "id": "c4dec70e",
   "metadata": {},
   "outputs": [
    {
     "name": "stdout",
     "output_type": "stream",
     "text": [
      "<class 'pandas.core.frame.DataFrame'>\n",
      "Int64Index: 236670 entries, 0 to 1048574\n",
      "Data columns (total 7 columns):\n",
      " #   Column        Non-Null Count   Dtype  \n",
      "---  ------        --------------   -----  \n",
      " 0   NDVI          236646 non-null  float64\n",
      " 1   Max Temp      236670 non-null  float64\n",
      " 2   Ave Temp      236670 non-null  float64\n",
      " 3   Min Temp      236670 non-null  float64\n",
      " 4   Ave Humidity  236670 non-null  float64\n",
      " 5   Rainfall      236670 non-null  float64\n",
      " 6   Crop_Type     236670 non-null  object \n",
      "dtypes: float64(6), object(1)\n",
      "memory usage: 14.4+ MB\n"
     ]
    }
   ],
   "source": [
    "df.info()"
   ]
  },
  {
   "cell_type": "code",
   "execution_count": 8,
   "id": "8d5820d0",
   "metadata": {},
   "outputs": [],
   "source": [
    "#to clean the data we use this function\n",
    "df=df.dropna()"
   ]
  },
  {
   "cell_type": "code",
   "execution_count": 9,
   "id": "189b6c11",
   "metadata": {},
   "outputs": [
    {
     "name": "stdout",
     "output_type": "stream",
     "text": [
      "Values of features means X\n",
      "            NDVI   Max Temp   Ave Temp  Min Temp  Ave Humidity  Rainfall\n",
      "0        0.2518   1.705882  -1.476471 -5.411765     85.888235  1.673529\n",
      "1        0.3869   1.705882  -1.476471 -5.411765     85.888235  1.673529\n",
      "2        0.2607   7.857143   1.678571 -4.142857     77.725000  0.516786\n",
      "3        0.2353   7.857143   1.678571 -4.142857     77.725000  0.516786\n",
      "4        0.2536   6.576923   2.757692 -1.153846     74.657692  1.993077\n",
      "...         ...        ...        ...       ...           ...       ...\n",
      "1048568  0.1601  12.000000   7.858065  4.225806     75.577419  3.589032\n",
      "1048569 -0.0153  12.000000   7.858065  4.225806     75.577419  3.589032\n",
      "1048571 -0.0592  15.838710  10.909677  6.322581     70.983871  6.825161\n",
      "1048573  0.2263  18.821429  13.078571  7.714286     63.475000  1.696071\n",
      "1048574  0.2369  19.419355  13.974194  8.870968     58.135484  2.195806\n",
      "\n",
      "[236646 rows x 6 columns]\n",
      "Values of output means y\n",
      " 0             corn\n",
      "1             corn\n",
      "2             corn\n",
      "3             corn\n",
      "4             corn\n",
      "            ...   \n",
      "1048568    barley \n",
      "1048569    barley \n",
      "1048571    barley \n",
      "1048573    barley \n",
      "1048574    barley \n",
      "Name: Crop_Type, Length: 236646, dtype: object\n"
     ]
    }
   ],
   "source": [
    "# prepare the training set\n",
    "# X  is feature columns except the last column which is output\n",
    "X=df.iloc[:, :-1]\n",
    "# y is output values\n",
    "y=df.iloc[:,-1]\n",
    "print(\"Values of features means X\\n\",X)\n",
    "print(\"Values of output means y\\n\",y)\n"
   ]
  },
  {
   "cell_type": "code",
   "execution_count": 10,
   "id": "eea8d63f",
   "metadata": {},
   "outputs": [
    {
     "data": {
      "image/png": "[encoded data removed]",
      "text/plain": [
       "<Figure size 432x288 with 1 Axes>"
      ]
     },
     "metadata": {
      "needs_background": "light"
     },
     "output_type": "display_data"
    }
   ],
   "source": [
    "#plot the each feature with output crop\n",
    "plt.xlabel('Features')\n",
    "plt.ylabel('Crop types')\n",
    "\n",
    "# pltX=df.loc[:,'longitude']\n",
    "# pltY=df.loc[:,'Crop_Type']\n",
    "# plt.scatter(pltX,pltY, color='blue' ,label='longitude')\n",
    "\n",
    "# pltX=df.loc[:,'latitude']\n",
    "# pltY=df.loc[:,'Crop_Type']\n",
    "# plt.scatter(pltX,pltY, color='red' ,label='latitude')\n",
    "\n",
    "pltX=df.loc[:,'NDVI']\n",
    "pltY=df.loc[:,'Crop_Type']\n",
    "plt.scatter(pltX,pltY, color='green' ,label='NDVI')\n",
    "\n",
    "pltX=df.loc[:,'Max Temp']\n",
    "pltY=df.loc[:,'Crop_Type']\n",
    "plt.scatter(pltX,pltY, color='yellow' ,label='Max Temp')\n",
    "\n",
    "pltX=df.loc[:,'Ave Temp']\n",
    "pltY=df.loc[:,'Crop_Type']\n",
    "plt.scatter(pltX,pltY, color='purple' ,label='Ave Temp')\n",
    "\n",
    "pltX=df.loc[:,'Min Temp']\n",
    "pltY=df.loc[:,'Crop_Type']\n",
    "plt.scatter(pltX,pltY, color='violet' ,label='Min Temp')\n",
    "\n",
    "pltX=df.loc[:,'Ave Humidity']\n",
    "pltY=df.loc[:,'Crop_Type']\n",
    "plt.scatter(pltX,pltY, color='pink' ,label='Ave Humidity')\n",
    "\n",
    "\n",
    "pltX=df.loc[:,'Rainfall']\n",
    "pltY=df.loc[:,'Crop_Type']\n",
    "plt.scatter(pltX,pltY, color='black' ,label='Rainfall')\n",
    "\n",
    "plt.legend(loc=4,prop={'size':8})\n",
    "plt.show()"
   ]
  },
  {
   "cell_type": "code",
   "execution_count": 11,
   "id": "85ae1d19",
   "metadata": {},
   "outputs": [
    {
     "name": "stdout",
     "output_type": "stream",
     "text": [
      "this is dataset after converting the pandas to numpy \n",
      " [[0.2518 1.705882353 -1.476470588 ... 85.88823529 1.673529412 'corn']\n",
      " [0.3869 1.705882353 -1.476470588 ... 85.88823529 1.673529412 'corn']\n",
      " [0.2607 7.857142857 1.678571429 ... 77.725 0.516785714 'corn']\n",
      " ...\n",
      " [-0.0592 15.83870968 10.90967742 ... 70.98387097 6.82516129 'barley ']\n",
      " [0.2263 18.82142857 13.07857143 ... 63.475 1.696071429 'barley ']\n",
      " [0.2369 19.41935484 13.97419355 ... 58.13548387 2.195806452 'barley ']]\n",
      "This is data type of our dataset\n",
      " <class 'numpy.ndarray'>\n"
     ]
    }
   ],
   "source": [
    "#slipt the data into training data(75%) and test data(25%)\n",
    "df= df.to_numpy()\n",
    "#converting the dataset pandas to numpy array ndarray\n",
    "print(\"this is dataset after converting the pandas to numpy \\n\",df)\n",
    "print(\"This is data type of our dataset\\n\",type(df))\n",
    "x_train,x_test,y_train,y_test=train_test_split(X,y,test_size=0.25,random_state=42)"
   ]
  },
  {
   "cell_type": "code",
   "execution_count": 12,
   "id": "36501f70",
   "metadata": {},
   "outputs": [
    {
     "data": {
      "text/plain": [
       "KNeighborsClassifier()"
      ]
     },
     "execution_count": 12,
     "metadata": {},
     "output_type": "execute_result"
    }
   ],
   "source": [
    "#train the model\n",
    "model = KNeighborsClassifier()\n",
    "model.fit(x_train,y_train)\n"
   ]
  },
  {
   "cell_type": "code",
   "execution_count": 13,
   "id": "5b852968",
   "metadata": {},
   "outputs": [
    {
     "name": "stdout",
     "output_type": "stream",
     "text": [
      "              precision    recall  f1-score   support\n",
      "\n",
      "      barley       0.63      0.75      0.69      4084\n",
      "     barley        0.27      0.17      0.20      2183\n",
      "        corn       0.33      0.32      0.33      9878\n",
      "      cotton       1.00      1.00      1.00     13336\n",
      "         soy       0.37      0.38      0.38     10558\n",
      "spring wheat       1.00      1.00      1.00     10797\n",
      "winter wheat       1.00      1.00      1.00      8326\n",
      "\n",
      "    accuracy                           0.73     59162\n",
      "   macro avg       0.66      0.66      0.66     59162\n",
      "weighted avg       0.72      0.73      0.73     59162\n",
      "\n",
      "Accuracy of algorithms Gradian Boost Classifier :\n",
      " 72.83729420912071\n"
     ]
    }
   ],
   "source": [
    "#test the model\n",
    "predictions=model.predict(x_test)\n",
    "#check precision,recall,f1 score\n",
    "print(classification_report(y_test,predictions))\n",
    "# check the accuracy of algorithms\n",
    "print(\"Accuracy of algorithms Gradian Boost Classifier :\\n\",accuracy_score(y_test,predictions)*100)\n",
    "# print(predictions),predictiaons\n",
    "# print(y_test)"
   ]
  },
  {
   "cell_type": "code",
   "execution_count": null,
   "id": "9281f27f",
   "metadata": {},
   "outputs": [],
   "source": []
  }
 ],
 "metadata": {
  "kernelspec": {
   "display_name": "Python 3 (ipykernel)",
   "language": "python",
   "name": "python3"
  },
  "language_info": {
   "codemirror_mode": {
    "name": "ipython",
    "version": 3
   },
   "file_extension": ".py",
   "mimetype": "text/x-python",
   "name": "python",
   "nbconvert_exporter": "python",
   "pygments_lexer": "ipython3",
   "version": "3.9.12"
  }
 },
 "nbformat": 4,
 "nbformat_minor": 5
}
