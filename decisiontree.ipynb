{
 "cells": [
  {
   "cell_type": "code",
   "execution_count": 14,
   "id": "4187d82d",
   "metadata": {},
   "outputs": [],
   "source": [
    "%matplotlib inline\n",
    "# from sklearn.linear_model import LogisticRegression\n",
    "# from sklearn.neighbors import KNeighborsClassifier\n",
    "import pandas as pd\n",
    "from sklearn.tree import DecisionTreeClassifier\n",
    "import numpy as np\n",
    "import matplotlib.pyplot as plt\n",
    "from sklearn.model_selection import train_test_split\n",
    "from sklearn.svm import SVC\n",
    "from sklearn.metrics import classification_report\n",
    "from sklearn.metrics import accuracy_score\n",
    "import seaborn as sns\n",
    "from sklearn.preprocessing import StandardScaler\n",
    "from sklearn.preprocessing import LabelEncoder"
   ]
  },
  {
   "cell_type": "code",
   "execution_count": 15,
   "id": "1f25a719",
   "metadata": {},
   "outputs": [
    {
     "data": {
      "text/html": [
       "<div>\n",
       "<style scoped>\n",
       "    .dataframe tbody tr th:only-of-type {\n",
       "        vertical-align: middle;\n",
       "    }\n",
       "\n",
       "    .dataframe tbody tr th {\n",
       "        vertical-align: top;\n",
       "    }\n",
       "\n",
       "    .dataframe thead th {\n",
       "        text-align: right;\n",
       "    }\n",
       "</style>\n",
       "<table border=\"1\" class=\"dataframe\">\n",
       "  <thead>\n",
       "    <tr style=\"text-align: right;\">\n",
       "      <th></th>\n",
       "      <th>longitude</th>\n",
       "      <th>latitude</th>\n",
       "      <th>NDVI</th>\n",
       "      <th>Max Temp</th>\n",
       "      <th>Ave Temp</th>\n",
       "      <th>Min Temp</th>\n",
       "      <th>Ave Humidity</th>\n",
       "      <th>Rainfall</th>\n",
       "      <th>Crop_Type</th>\n",
       "    </tr>\n",
       "  </thead>\n",
       "  <tbody>\n",
       "    <tr>\n",
       "      <th>0</th>\n",
       "      <td>-88.707511</td>\n",
       "      <td>41.815454</td>\n",
       "      <td>0.2518</td>\n",
       "      <td>1.705882</td>\n",
       "      <td>-1.476471</td>\n",
       "      <td>-5.411765</td>\n",
       "      <td>85.888235</td>\n",
       "      <td>1.673529</td>\n",
       "      <td>corn</td>\n",
       "    </tr>\n",
       "    <tr>\n",
       "      <th>1</th>\n",
       "      <td>-88.707511</td>\n",
       "      <td>41.815454</td>\n",
       "      <td>0.3869</td>\n",
       "      <td>1.705882</td>\n",
       "      <td>-1.476471</td>\n",
       "      <td>-5.411765</td>\n",
       "      <td>85.888235</td>\n",
       "      <td>1.673529</td>\n",
       "      <td>corn</td>\n",
       "    </tr>\n",
       "    <tr>\n",
       "      <th>2</th>\n",
       "      <td>-88.707511</td>\n",
       "      <td>41.815454</td>\n",
       "      <td>0.2607</td>\n",
       "      <td>7.857143</td>\n",
       "      <td>1.678571</td>\n",
       "      <td>-4.142857</td>\n",
       "      <td>77.725000</td>\n",
       "      <td>0.516786</td>\n",
       "      <td>corn</td>\n",
       "    </tr>\n",
       "    <tr>\n",
       "      <th>3</th>\n",
       "      <td>-88.707511</td>\n",
       "      <td>41.815454</td>\n",
       "      <td>0.2353</td>\n",
       "      <td>7.857143</td>\n",
       "      <td>1.678571</td>\n",
       "      <td>-4.142857</td>\n",
       "      <td>77.725000</td>\n",
       "      <td>0.516786</td>\n",
       "      <td>corn</td>\n",
       "    </tr>\n",
       "    <tr>\n",
       "      <th>4</th>\n",
       "      <td>-88.707511</td>\n",
       "      <td>41.815454</td>\n",
       "      <td>0.2536</td>\n",
       "      <td>6.576923</td>\n",
       "      <td>2.757692</td>\n",
       "      <td>-1.153846</td>\n",
       "      <td>74.657692</td>\n",
       "      <td>1.993077</td>\n",
       "      <td>corn</td>\n",
       "    </tr>\n",
       "  </tbody>\n",
       "</table>\n",
       "</div>"
      ],
      "text/plain": [
       "   longitude   latitude    NDVI  Max Temp  Ave Temp  Min Temp  Ave Humidity  \\\n",
       "0 -88.707511  41.815454  0.2518  1.705882 -1.476471 -5.411765     85.888235   \n",
       "1 -88.707511  41.815454  0.3869  1.705882 -1.476471 -5.411765     85.888235   \n",
       "2 -88.707511  41.815454  0.2607  7.857143  1.678571 -4.142857     77.725000   \n",
       "3 -88.707511  41.815454  0.2353  7.857143  1.678571 -4.142857     77.725000   \n",
       "4 -88.707511  41.815454  0.2536  6.576923  2.757692 -1.153846     74.657692   \n",
       "\n",
       "   Rainfall Crop_Type  \n",
       "0  1.673529      corn  \n",
       "1  1.673529      corn  \n",
       "2  0.516786      corn  \n",
       "3  0.516786      corn  \n",
       "4  1.993077      corn  "
      ]
     },
     "execution_count": 15,
     "metadata": {},
     "output_type": "execute_result"
    }
   ],
   "source": [
    "# load the dataset\n",
    "# df = pd.read_csv(r'D:\\Final Year Project\\final project\\Dataset-1.csv')\n",
    "df = pd.read_csv(r'D:\\Final Year Project\\final project\\Dataset (Original).csv')\n",
    "# df = pd.read_csv(r'D:\\Final Year Project\\final project\\Dataset (Original1).csv') #longitude and latitude are remove\n",
    "df.head()\n"
   ]
  },
  {
   "cell_type": "code",
   "execution_count": 16,
   "id": "7805a628",
   "metadata": {},
   "outputs": [
    {
     "data": {
      "text/html": [
       "<div>\n",
       "<style scoped>\n",
       "    .dataframe tbody tr th:only-of-type {\n",
       "        vertical-align: middle;\n",
       "    }\n",
       "\n",
       "    .dataframe tbody tr th {\n",
       "        vertical-align: top;\n",
       "    }\n",
       "\n",
       "    .dataframe thead th {\n",
       "        text-align: right;\n",
       "    }\n",
       "</style>\n",
       "<table border=\"1\" class=\"dataframe\">\n",
       "  <thead>\n",
       "    <tr style=\"text-align: right;\">\n",
       "      <th></th>\n",
       "      <th>longitude</th>\n",
       "      <th>latitude</th>\n",
       "      <th>NDVI</th>\n",
       "      <th>Max Temp</th>\n",
       "      <th>Ave Temp</th>\n",
       "      <th>Min Temp</th>\n",
       "      <th>Ave Humidity</th>\n",
       "      <th>Rainfall</th>\n",
       "      <th>Crop_Type</th>\n",
       "    </tr>\n",
       "  </thead>\n",
       "  <tbody>\n",
       "    <tr>\n",
       "      <th>1125063</th>\n",
       "      <td>-111.014926</td>\n",
       "      <td>47.373779</td>\n",
       "      <td>0.2333</td>\n",
       "      <td>23.580645</td>\n",
       "      <td>18.361290</td>\n",
       "      <td>13.451613</td>\n",
       "      <td>70.741935</td>\n",
       "      <td>3.170645</td>\n",
       "      <td>barley</td>\n",
       "    </tr>\n",
       "    <tr>\n",
       "      <th>1125064</th>\n",
       "      <td>-111.014926</td>\n",
       "      <td>47.373779</td>\n",
       "      <td>-0.0498</td>\n",
       "      <td>18.466667</td>\n",
       "      <td>13.146667</td>\n",
       "      <td>8.500000</td>\n",
       "      <td>75.506667</td>\n",
       "      <td>0.880667</td>\n",
       "      <td>barley</td>\n",
       "    </tr>\n",
       "    <tr>\n",
       "      <th>1125065</th>\n",
       "      <td>-111.014926</td>\n",
       "      <td>47.373779</td>\n",
       "      <td>0.2489</td>\n",
       "      <td>18.466667</td>\n",
       "      <td>13.146667</td>\n",
       "      <td>8.500000</td>\n",
       "      <td>75.506667</td>\n",
       "      <td>0.880667</td>\n",
       "      <td>barley</td>\n",
       "    </tr>\n",
       "    <tr>\n",
       "      <th>1125066</th>\n",
       "      <td>-111.014926</td>\n",
       "      <td>47.373779</td>\n",
       "      <td>0.2728</td>\n",
       "      <td>12.000000</td>\n",
       "      <td>7.858065</td>\n",
       "      <td>4.225806</td>\n",
       "      <td>75.577419</td>\n",
       "      <td>3.589032</td>\n",
       "      <td>barley</td>\n",
       "    </tr>\n",
       "    <tr>\n",
       "      <th>1125067</th>\n",
       "      <td>-111.014926</td>\n",
       "      <td>47.373779</td>\n",
       "      <td>-0.0222</td>\n",
       "      <td>12.000000</td>\n",
       "      <td>7.858065</td>\n",
       "      <td>4.225806</td>\n",
       "      <td>75.577419</td>\n",
       "      <td>3.589032</td>\n",
       "      <td>barley</td>\n",
       "    </tr>\n",
       "  </tbody>\n",
       "</table>\n",
       "</div>"
      ],
      "text/plain": [
       "          longitude   latitude    NDVI   Max Temp   Ave Temp   Min Temp  \\\n",
       "1125063 -111.014926  47.373779  0.2333  23.580645  18.361290  13.451613   \n",
       "1125064 -111.014926  47.373779 -0.0498  18.466667  13.146667   8.500000   \n",
       "1125065 -111.014926  47.373779  0.2489  18.466667  13.146667   8.500000   \n",
       "1125066 -111.014926  47.373779  0.2728  12.000000   7.858065   4.225806   \n",
       "1125067 -111.014926  47.373779 -0.0222  12.000000   7.858065   4.225806   \n",
       "\n",
       "         Ave Humidity  Rainfall Crop_Type  \n",
       "1125063     70.741935  3.170645   barley   \n",
       "1125064     75.506667  0.880667   barley   \n",
       "1125065     75.506667  0.880667   barley   \n",
       "1125066     75.577419  3.589032   barley   \n",
       "1125067     75.577419  3.589032   barley   "
      ]
     },
     "execution_count": 16,
     "metadata": {},
     "output_type": "execute_result"
    }
   ],
   "source": [
    "#give last five rows\n",
    "df.tail()"
   ]
  },
  {
   "cell_type": "code",
   "execution_count": 158,
   "id": "a4ba2d6b",
   "metadata": {},
   "outputs": [
    {
     "name": "stdout",
     "output_type": "stream",
     "text": [
      "[[-88.70751141 41.81545358 0.2518 ... 85.88823529 1.673529412 'corn']\n",
      " [-88.70751141 41.81545358 0.3869 ... 85.88823529 1.673529412 'corn']\n",
      " [-88.70751141 41.81545358 0.2607 ... 77.725 0.516785714 'corn']\n",
      " ...\n",
      " [-111.0149257 47.3737794 0.2489 ... 75.50666667 0.880666667 'barley ']\n",
      " [-111.0149257 47.3737794 0.2728 ... 75.57741935 3.589032258 'barley ']\n",
      " [-111.0149257 47.3737794 -0.0222 ... 75.57741935 3.589032258 'barley ']]\n"
     ]
    }
   ],
   "source": [
    "print(df)"
   ]
  },
  {
   "cell_type": "code",
   "execution_count": 17,
   "id": "59ecf1ae",
   "metadata": {},
   "outputs": [
    {
     "data": {
      "text/plain": [
       "longitude         0\n",
       "latitude          0\n",
       "NDVI            394\n",
       "Max Temp          0\n",
       "Ave Temp          0\n",
       "Min Temp          0\n",
       "Ave Humidity      0\n",
       "Rainfall          0\n",
       "Crop_Type         0\n",
       "dtype: int64"
      ]
     },
     "execution_count": 17,
     "metadata": {},
     "output_type": "execute_result"
    }
   ],
   "source": [
    "df.isnull().sum()"
   ]
  },
  {
   "cell_type": "code",
   "execution_count": 18,
   "id": "e632c584",
   "metadata": {},
   "outputs": [],
   "source": [
    "#this is used to fill the null values which is present in NDVI column,\n",
    "#first we take the median then that median is replace with null values\n",
    "#if you replace with mode just change median into mode, or change with mean \n",
    "df['NDVI'].fillna(df['NDVI'].median(),inplace=True)"
   ]
  },
  {
   "cell_type": "code",
   "execution_count": 19,
   "id": "39a7d291",
   "metadata": {},
   "outputs": [
    {
     "data": {
      "text/plain": [
       "longitude       0\n",
       "latitude        0\n",
       "NDVI            0\n",
       "Max Temp        0\n",
       "Ave Temp        0\n",
       "Min Temp        0\n",
       "Ave Humidity    0\n",
       "Rainfall        0\n",
       "Crop_Type       0\n",
       "dtype: int64"
      ]
     },
     "execution_count": 19,
     "metadata": {},
     "output_type": "execute_result"
    }
   ],
   "source": [
    "df.isnull().sum()"
   ]
  },
  {
   "cell_type": "code",
   "execution_count": 111,
   "id": "8c5c5f34",
   "metadata": {},
   "outputs": [
    {
     "ename": "SyntaxError",
     "evalue": "invalid syntax (95426748.py, line 2)",
     "output_type": "error",
     "traceback": [
      "\u001b[1;36m  Input \u001b[1;32mIn [111]\u001b[1;36m\u001b[0m\n\u001b[1;33m    sns.relplot(data=df, x='Crop_Type', y='NDVI', col='Rainfall', hue='Min Temp',style='Min Temp' size='Max Temp')\u001b[0m\n\u001b[1;37m                                                                                                  ^\u001b[0m\n\u001b[1;31mSyntaxError\u001b[0m\u001b[1;31m:\u001b[0m invalid syntax\n"
     ]
    }
   ],
   "source": [
    "#data visualization\n",
    "sns.relplot(data=df, x='Crop_Type', y='NDVI', col='Rainfall', hue='Min Temp',style='Min Temp' size='Max Temp')"
   ]
  },
  {
   "cell_type": "code",
   "execution_count": 112,
   "id": "d93ac8af",
   "metadata": {},
   "outputs": [
    {
     "data": {
      "text/plain": [
       "<AxesSubplot:xlabel='NDVI', ylabel='Rainfall'>"
      ]
     },
     "execution_count": 112,
     "metadata": {},
     "output_type": "execute_result"
    },
    {
     "name": "stderr",
     "output_type": "stream",
     "text": [
      "C:\\Users\\AL Makkah computer\\anaconda3\\lib\\site-packages\\IPython\\core\\events.py:89: UserWarning: Creating legend with loc=\"best\" can be slow with large amounts of data.\n",
      "  func(*args, **kwargs)\n",
      "C:\\Users\\AL Makkah computer\\anaconda3\\lib\\site-packages\\IPython\\core\\pylabtools.py:151: UserWarning: Creating legend with loc=\"best\" can be slow with large amounts of data.\n",
      "  fig.canvas.print_figure(bytes_io, **kw)\n"
     ]
    },
    {
     "data": {
      "image/png": "[encoded data removed]",
      "text/plain": [
       "<Figure size 432x288 with 1 Axes>"
      ]
     },
     "metadata": {
      "needs_background": "light"
     },
     "output_type": "display_data"
    }
   ],
   "source": [
    "#graph between two perameters\n",
    "sns.scatterplot(x='NDVI' ,y='Rainfall' ,hue='Crop_Type',data=df)"
   ]
  },
  {
   "cell_type": "code",
   "execution_count": 130,
   "id": "4b13c4b4",
   "metadata": {},
   "outputs": [
    {
     "data": {
      "text/plain": [
       "<AxesSubplot:xlabel='Crop_Type', ylabel='count'>"
      ]
     },
     "execution_count": 130,
     "metadata": {},
     "output_type": "execute_result"
    },
    {
     "data": {
      "image/png": "[encoded data removed]",
      "text/plain": [
       "<Figure size 432x288 with 1 Axes>"
      ]
     },
     "metadata": {
      "needs_background": "light"
     },
     "output_type": "display_data"
    }
   ],
   "source": [
    "#this is count plot means count the row and display in graph  (ye catogories the dermiyan hota hy not )\n",
    "sns.countplot(x='Crop_Type',data=df)"
   ]
  },
  {
   "cell_type": "code",
   "execution_count": 79,
   "id": "98f49a76",
   "metadata": {},
   "outputs": [
    {
     "name": "stderr",
     "output_type": "stream",
     "text": [
      "C:\\Users\\AL Makkah computer\\anaconda3\\lib\\site-packages\\seaborn\\distributions.py:2619: FutureWarning: `distplot` is a deprecated function and will be removed in a future version. Please adapt your code to use either `displot` (a figure-level function with similar flexibility) or `histplot` (an axes-level function for histograms).\n",
      "  warnings.warn(msg, FutureWarning)\n"
     ]
    },
    {
     "data": {
      "text/plain": [
       "<AxesSubplot:xlabel='NDVI', ylabel='Density'>"
      ]
     },
     "execution_count": 79,
     "metadata": {},
     "output_type": "execute_result"
    },
    {
     "data": {
      "image/png": "[encoded data removed]",
      "text/plain": [
       "<Figure size 432x288 with 1 Axes>"
      ]
     },
     "metadata": {
      "needs_background": "light"
     },
     "output_type": "display_data"
    }
   ],
   "source": [
    "#Distribution plot\n",
    "sns.distplot(df['NDVI'])"
   ]
  },
  {
   "cell_type": "code",
   "execution_count": 131,
   "id": "6f6eb13e",
   "metadata": {},
   "outputs": [],
   "source": [
    "#Heat Map\n",
    "correlation=df.corr()"
   ]
  },
  {
   "cell_type": "code",
   "execution_count": 132,
   "id": "f3199571",
   "metadata": {},
   "outputs": [
    {
     "data": {
      "text/plain": [
       "<AxesSubplot:>"
      ]
     },
     "execution_count": 132,
     "metadata": {},
     "output_type": "execute_result"
    },
    {
     "data": {
      "image/png": "[encoded data removed]",
      "text/plain": [
       "<Figure size 720x720 with 2 Axes>"
      ]
     },
     "metadata": {
      "needs_background": "light"
     },
     "output_type": "display_data"
    }
   ],
   "source": [
    "plt.figure(figsize=(10,10))\n",
    "sns.heatmap(correlation, cmap='Greens_r', cbar=True, square=True, fmt='.1f' , annot=True, annot_kws={'size':10} ,linewidth=1)"
   ]
  },
  {
   "cell_type": "code",
   "execution_count": 4,
   "id": "c859fea2",
   "metadata": {},
   "outputs": [
    {
     "data": {
      "text/plain": [
       "array(['corn', 'cotton', 'soy', 'spring wheat', 'winter wheat', 'barley',\n",
       "       'barley '], dtype=object)"
      ]
     },
     "execution_count": 4,
     "metadata": {},
     "output_type": "execute_result"
    }
   ],
   "source": [
    "df['Crop_Type'].unique()"
   ]
  },
  {
   "cell_type": "code",
   "execution_count": 5,
   "id": "cd0f9dc3",
   "metadata": {},
   "outputs": [
    {
     "data": {
      "text/plain": [
       "Crop_Type\n",
       "corn            206609\n",
       "cotton          206586\n",
       "soy             206586\n",
       "spring wheat    206586\n",
       "winter wheat    179032\n",
       "barley           89746\n",
       "barley           29923\n",
       "dtype: int64"
      ]
     },
     "execution_count": 5,
     "metadata": {},
     "output_type": "execute_result"
    }
   ],
   "source": [
    "#count the values based on labels\n",
    "df.value_counts('Crop_Type')"
   ]
  },
  {
   "cell_type": "code",
   "execution_count": 20,
   "id": "2d501c57",
   "metadata": {},
   "outputs": [],
   "source": [
    "#load the label encoder function\n",
    "label_encoder=LabelEncoder()"
   ]
  },
  {
   "cell_type": "code",
   "execution_count": 21,
   "id": "b8ff3431",
   "metadata": {},
   "outputs": [],
   "source": [
    "df['Crop_Type']=label_encoder.fit_transform(df['Crop_Type'])  #----> check karna hy is syntax google se "
   ]
  },
  {
   "cell_type": "code",
   "execution_count": 22,
   "id": "d4b5e048",
   "metadata": {},
   "outputs": [
    {
     "data": {
      "text/html": [
       "<div>\n",
       "<style scoped>\n",
       "    .dataframe tbody tr th:only-of-type {\n",
       "        vertical-align: middle;\n",
       "    }\n",
       "\n",
       "    .dataframe tbody tr th {\n",
       "        vertical-align: top;\n",
       "    }\n",
       "\n",
       "    .dataframe thead th {\n",
       "        text-align: right;\n",
       "    }\n",
       "</style>\n",
       "<table border=\"1\" class=\"dataframe\">\n",
       "  <thead>\n",
       "    <tr style=\"text-align: right;\">\n",
       "      <th></th>\n",
       "      <th>longitude</th>\n",
       "      <th>latitude</th>\n",
       "      <th>NDVI</th>\n",
       "      <th>Max Temp</th>\n",
       "      <th>Ave Temp</th>\n",
       "      <th>Min Temp</th>\n",
       "      <th>Ave Humidity</th>\n",
       "      <th>Rainfall</th>\n",
       "      <th>Crop_Type</th>\n",
       "    </tr>\n",
       "  </thead>\n",
       "  <tbody>\n",
       "    <tr>\n",
       "      <th>0</th>\n",
       "      <td>-88.707511</td>\n",
       "      <td>41.815454</td>\n",
       "      <td>0.2518</td>\n",
       "      <td>1.705882</td>\n",
       "      <td>-1.476471</td>\n",
       "      <td>-5.411765</td>\n",
       "      <td>85.888235</td>\n",
       "      <td>1.673529</td>\n",
       "      <td>2</td>\n",
       "    </tr>\n",
       "    <tr>\n",
       "      <th>1</th>\n",
       "      <td>-88.707511</td>\n",
       "      <td>41.815454</td>\n",
       "      <td>0.3869</td>\n",
       "      <td>1.705882</td>\n",
       "      <td>-1.476471</td>\n",
       "      <td>-5.411765</td>\n",
       "      <td>85.888235</td>\n",
       "      <td>1.673529</td>\n",
       "      <td>2</td>\n",
       "    </tr>\n",
       "    <tr>\n",
       "      <th>2</th>\n",
       "      <td>-88.707511</td>\n",
       "      <td>41.815454</td>\n",
       "      <td>0.2607</td>\n",
       "      <td>7.857143</td>\n",
       "      <td>1.678571</td>\n",
       "      <td>-4.142857</td>\n",
       "      <td>77.725000</td>\n",
       "      <td>0.516786</td>\n",
       "      <td>2</td>\n",
       "    </tr>\n",
       "    <tr>\n",
       "      <th>3</th>\n",
       "      <td>-88.707511</td>\n",
       "      <td>41.815454</td>\n",
       "      <td>0.2353</td>\n",
       "      <td>7.857143</td>\n",
       "      <td>1.678571</td>\n",
       "      <td>-4.142857</td>\n",
       "      <td>77.725000</td>\n",
       "      <td>0.516786</td>\n",
       "      <td>2</td>\n",
       "    </tr>\n",
       "    <tr>\n",
       "      <th>4</th>\n",
       "      <td>-88.707511</td>\n",
       "      <td>41.815454</td>\n",
       "      <td>0.2536</td>\n",
       "      <td>6.576923</td>\n",
       "      <td>2.757692</td>\n",
       "      <td>-1.153846</td>\n",
       "      <td>74.657692</td>\n",
       "      <td>1.993077</td>\n",
       "      <td>2</td>\n",
       "    </tr>\n",
       "  </tbody>\n",
       "</table>\n",
       "</div>"
      ],
      "text/plain": [
       "   longitude   latitude    NDVI  Max Temp  Ave Temp  Min Temp  Ave Humidity  \\\n",
       "0 -88.707511  41.815454  0.2518  1.705882 -1.476471 -5.411765     85.888235   \n",
       "1 -88.707511  41.815454  0.3869  1.705882 -1.476471 -5.411765     85.888235   \n",
       "2 -88.707511  41.815454  0.2607  7.857143  1.678571 -4.142857     77.725000   \n",
       "3 -88.707511  41.815454  0.2353  7.857143  1.678571 -4.142857     77.725000   \n",
       "4 -88.707511  41.815454  0.2536  6.576923  2.757692 -1.153846     74.657692   \n",
       "\n",
       "   Rainfall  Crop_Type  \n",
       "0  1.673529          2  \n",
       "1  1.673529          2  \n",
       "2  0.516786          2  \n",
       "3  0.516786          2  \n",
       "4  1.993077          2  "
      ]
     },
     "execution_count": 22,
     "metadata": {},
     "output_type": "execute_result"
    }
   ],
   "source": [
    "df.head()"
   ]
  },
  {
   "cell_type": "code",
   "execution_count": 134,
   "id": "8ef23751",
   "metadata": {},
   "outputs": [
    {
     "data": {
      "text/plain": [
       "longitude       1125068\n",
       "latitude        1125068\n",
       "NDVI            1125068\n",
       "Max Temp        1125068\n",
       "Ave Temp        1125068\n",
       "Min Temp        1125068\n",
       "Ave Humidity    1125068\n",
       "Rainfall        1125068\n",
       "Crop_Type       1125068\n",
       "dtype: int64"
      ]
     },
     "execution_count": 134,
     "metadata": {},
     "output_type": "execute_result"
    }
   ],
   "source": [
    "#values or number of count\n",
    "df.count()"
   ]
  },
  {
   "cell_type": "code",
   "execution_count": 135,
   "id": "9c0a3485",
   "metadata": {},
   "outputs": [
    {
     "data": {
      "text/plain": [
       "longitude      -112.679055\n",
       "latitude         30.710031\n",
       "NDVI               -0.1921\n",
       "Max Temp        -14.708333\n",
       "Ave Temp         -9.266667\n",
       "Min Temp        -10.083333\n",
       "Ave Humidity      -56.7625\n",
       "Rainfall         -0.190833\n",
       "Crop_Type           barley\n",
       "dtype: object"
      ]
     },
     "execution_count": 135,
     "metadata": {},
     "output_type": "execute_result"
    }
   ],
   "source": [
    "#for minimum value\n",
    "df.min()"
   ]
  },
  {
   "cell_type": "code",
   "execution_count": 136,
   "id": "570275fc",
   "metadata": {},
   "outputs": [
    {
     "data": {
      "text/plain": [
       "longitude         -81.714127\n",
       "latitude           48.997484\n",
       "NDVI                   0.994\n",
       "Max Temp                31.5\n",
       "Ave Temp           27.479167\n",
       "Min Temp              23.625\n",
       "Ave Humidity       86.613636\n",
       "Rainfall            6.825161\n",
       "Crop_Type       winter wheat\n",
       "dtype: object"
      ]
     },
     "execution_count": 136,
     "metadata": {},
     "output_type": "execute_result"
    }
   ],
   "source": [
    "#for maximum value\n",
    "df.max()"
   ]
  },
  {
   "cell_type": "code",
   "execution_count": 137,
   "id": "ec57d216",
   "metadata": {},
   "outputs": [
    {
     "data": {
      "text/html": [
       "<div>\n",
       "<style scoped>\n",
       "    .dataframe tbody tr th:only-of-type {\n",
       "        vertical-align: middle;\n",
       "    }\n",
       "\n",
       "    .dataframe tbody tr th {\n",
       "        vertical-align: top;\n",
       "    }\n",
       "\n",
       "    .dataframe thead th {\n",
       "        text-align: right;\n",
       "    }\n",
       "</style>\n",
       "<table border=\"1\" class=\"dataframe\">\n",
       "  <thead>\n",
       "    <tr style=\"text-align: right;\">\n",
       "      <th></th>\n",
       "      <th>longitude</th>\n",
       "      <th>latitude</th>\n",
       "      <th>NDVI</th>\n",
       "      <th>Max Temp</th>\n",
       "      <th>Ave Temp</th>\n",
       "      <th>Min Temp</th>\n",
       "      <th>Ave Humidity</th>\n",
       "      <th>Rainfall</th>\n",
       "      <th>Crop_Type</th>\n",
       "    </tr>\n",
       "  </thead>\n",
       "  <tbody>\n",
       "    <tr>\n",
       "      <th>0</th>\n",
       "      <td>-88.707511</td>\n",
       "      <td>41.815454</td>\n",
       "      <td>0.2518</td>\n",
       "      <td>1.705882</td>\n",
       "      <td>-1.476471</td>\n",
       "      <td>-5.411765</td>\n",
       "      <td>85.888235</td>\n",
       "      <td>1.673529</td>\n",
       "      <td>corn</td>\n",
       "    </tr>\n",
       "    <tr>\n",
       "      <th>1</th>\n",
       "      <td>-88.707511</td>\n",
       "      <td>41.815454</td>\n",
       "      <td>0.3869</td>\n",
       "      <td>1.705882</td>\n",
       "      <td>-1.476471</td>\n",
       "      <td>-5.411765</td>\n",
       "      <td>85.888235</td>\n",
       "      <td>1.673529</td>\n",
       "      <td>corn</td>\n",
       "    </tr>\n",
       "    <tr>\n",
       "      <th>2</th>\n",
       "      <td>-88.707511</td>\n",
       "      <td>41.815454</td>\n",
       "      <td>0.2607</td>\n",
       "      <td>7.857143</td>\n",
       "      <td>1.678571</td>\n",
       "      <td>-4.142857</td>\n",
       "      <td>77.725000</td>\n",
       "      <td>0.516786</td>\n",
       "      <td>corn</td>\n",
       "    </tr>\n",
       "    <tr>\n",
       "      <th>4</th>\n",
       "      <td>-88.707511</td>\n",
       "      <td>41.815454</td>\n",
       "      <td>0.2536</td>\n",
       "      <td>6.576923</td>\n",
       "      <td>2.757692</td>\n",
       "      <td>-1.153846</td>\n",
       "      <td>74.657692</td>\n",
       "      <td>1.993077</td>\n",
       "      <td>corn</td>\n",
       "    </tr>\n",
       "    <tr>\n",
       "      <th>5</th>\n",
       "      <td>-88.707511</td>\n",
       "      <td>41.815454</td>\n",
       "      <td>0.2364</td>\n",
       "      <td>6.576923</td>\n",
       "      <td>2.757692</td>\n",
       "      <td>-1.153846</td>\n",
       "      <td>74.657692</td>\n",
       "      <td>1.993077</td>\n",
       "      <td>corn</td>\n",
       "    </tr>\n",
       "    <tr>\n",
       "      <th>...</th>\n",
       "      <td>...</td>\n",
       "      <td>...</td>\n",
       "      <td>...</td>\n",
       "      <td>...</td>\n",
       "      <td>...</td>\n",
       "      <td>...</td>\n",
       "      <td>...</td>\n",
       "      <td>...</td>\n",
       "      <td>...</td>\n",
       "    </tr>\n",
       "    <tr>\n",
       "      <th>1125063</th>\n",
       "      <td>-111.014926</td>\n",
       "      <td>47.373779</td>\n",
       "      <td>0.2333</td>\n",
       "      <td>23.580645</td>\n",
       "      <td>18.361290</td>\n",
       "      <td>13.451613</td>\n",
       "      <td>70.741935</td>\n",
       "      <td>3.170645</td>\n",
       "      <td>barley</td>\n",
       "    </tr>\n",
       "    <tr>\n",
       "      <th>1125064</th>\n",
       "      <td>-111.014926</td>\n",
       "      <td>47.373779</td>\n",
       "      <td>-0.0498</td>\n",
       "      <td>18.466667</td>\n",
       "      <td>13.146667</td>\n",
       "      <td>8.500000</td>\n",
       "      <td>75.506667</td>\n",
       "      <td>0.880667</td>\n",
       "      <td>barley</td>\n",
       "    </tr>\n",
       "    <tr>\n",
       "      <th>1125065</th>\n",
       "      <td>-111.014926</td>\n",
       "      <td>47.373779</td>\n",
       "      <td>0.2489</td>\n",
       "      <td>18.466667</td>\n",
       "      <td>13.146667</td>\n",
       "      <td>8.500000</td>\n",
       "      <td>75.506667</td>\n",
       "      <td>0.880667</td>\n",
       "      <td>barley</td>\n",
       "    </tr>\n",
       "    <tr>\n",
       "      <th>1125066</th>\n",
       "      <td>-111.014926</td>\n",
       "      <td>47.373779</td>\n",
       "      <td>0.2728</td>\n",
       "      <td>12.000000</td>\n",
       "      <td>7.858065</td>\n",
       "      <td>4.225806</td>\n",
       "      <td>75.577419</td>\n",
       "      <td>3.589032</td>\n",
       "      <td>barley</td>\n",
       "    </tr>\n",
       "    <tr>\n",
       "      <th>1125067</th>\n",
       "      <td>-111.014926</td>\n",
       "      <td>47.373779</td>\n",
       "      <td>-0.0222</td>\n",
       "      <td>12.000000</td>\n",
       "      <td>7.858065</td>\n",
       "      <td>4.225806</td>\n",
       "      <td>75.577419</td>\n",
       "      <td>3.589032</td>\n",
       "      <td>barley</td>\n",
       "    </tr>\n",
       "  </tbody>\n",
       "</table>\n",
       "<p>1125067 rows × 9 columns</p>\n",
       "</div>"
      ],
      "text/plain": [
       "          longitude   latitude    NDVI   Max Temp   Ave Temp   Min Temp  \\\n",
       "0        -88.707511  41.815454  0.2518   1.705882  -1.476471  -5.411765   \n",
       "1        -88.707511  41.815454  0.3869   1.705882  -1.476471  -5.411765   \n",
       "2        -88.707511  41.815454  0.2607   7.857143   1.678571  -4.142857   \n",
       "4        -88.707511  41.815454  0.2536   6.576923   2.757692  -1.153846   \n",
       "5        -88.707511  41.815454  0.2364   6.576923   2.757692  -1.153846   \n",
       "...             ...        ...     ...        ...        ...        ...   \n",
       "1125063 -111.014926  47.373779  0.2333  23.580645  18.361290  13.451613   \n",
       "1125064 -111.014926  47.373779 -0.0498  18.466667  13.146667   8.500000   \n",
       "1125065 -111.014926  47.373779  0.2489  18.466667  13.146667   8.500000   \n",
       "1125066 -111.014926  47.373779  0.2728  12.000000   7.858065   4.225806   \n",
       "1125067 -111.014926  47.373779 -0.0222  12.000000   7.858065   4.225806   \n",
       "\n",
       "         Ave Humidity  Rainfall Crop_Type  \n",
       "0           85.888235  1.673529      corn  \n",
       "1           85.888235  1.673529      corn  \n",
       "2           77.725000  0.516786      corn  \n",
       "4           74.657692  1.993077      corn  \n",
       "5           74.657692  1.993077      corn  \n",
       "...               ...       ...       ...  \n",
       "1125063     70.741935  3.170645   barley   \n",
       "1125064     75.506667  0.880667   barley   \n",
       "1125065     75.506667  0.880667   barley   \n",
       "1125066     75.577419  3.589032   barley   \n",
       "1125067     75.577419  3.589032   barley   \n",
       "\n",
       "[1125067 rows x 9 columns]"
      ]
     },
     "execution_count": 137,
     "metadata": {},
     "output_type": "execute_result"
    }
   ],
   "source": [
    "#for drop a row\n",
    "#this means it drop row number 3 , for drop a row we use axis is 0\n",
    "df.drop(index=3,axis=0)"
   ]
  },
  {
   "cell_type": "code",
   "execution_count": 138,
   "id": "1a829542",
   "metadata": {},
   "outputs": [
    {
     "data": {
      "text/html": [
       "<div>\n",
       "<style scoped>\n",
       "    .dataframe tbody tr th:only-of-type {\n",
       "        vertical-align: middle;\n",
       "    }\n",
       "\n",
       "    .dataframe tbody tr th {\n",
       "        vertical-align: top;\n",
       "    }\n",
       "\n",
       "    .dataframe thead th {\n",
       "        text-align: right;\n",
       "    }\n",
       "</style>\n",
       "<table border=\"1\" class=\"dataframe\">\n",
       "  <thead>\n",
       "    <tr style=\"text-align: right;\">\n",
       "      <th></th>\n",
       "      <th>longitude</th>\n",
       "      <th>latitude</th>\n",
       "      <th>NDVI</th>\n",
       "      <th>Max Temp</th>\n",
       "      <th>Ave Temp</th>\n",
       "      <th>Ave Humidity</th>\n",
       "      <th>Rainfall</th>\n",
       "      <th>Crop_Type</th>\n",
       "    </tr>\n",
       "  </thead>\n",
       "  <tbody>\n",
       "    <tr>\n",
       "      <th>0</th>\n",
       "      <td>-88.707511</td>\n",
       "      <td>41.815454</td>\n",
       "      <td>0.2518</td>\n",
       "      <td>1.705882</td>\n",
       "      <td>-1.476471</td>\n",
       "      <td>85.888235</td>\n",
       "      <td>1.673529</td>\n",
       "      <td>corn</td>\n",
       "    </tr>\n",
       "    <tr>\n",
       "      <th>1</th>\n",
       "      <td>-88.707511</td>\n",
       "      <td>41.815454</td>\n",
       "      <td>0.3869</td>\n",
       "      <td>1.705882</td>\n",
       "      <td>-1.476471</td>\n",
       "      <td>85.888235</td>\n",
       "      <td>1.673529</td>\n",
       "      <td>corn</td>\n",
       "    </tr>\n",
       "    <tr>\n",
       "      <th>2</th>\n",
       "      <td>-88.707511</td>\n",
       "      <td>41.815454</td>\n",
       "      <td>0.2607</td>\n",
       "      <td>7.857143</td>\n",
       "      <td>1.678571</td>\n",
       "      <td>77.725000</td>\n",
       "      <td>0.516786</td>\n",
       "      <td>corn</td>\n",
       "    </tr>\n",
       "    <tr>\n",
       "      <th>3</th>\n",
       "      <td>-88.707511</td>\n",
       "      <td>41.815454</td>\n",
       "      <td>0.2353</td>\n",
       "      <td>7.857143</td>\n",
       "      <td>1.678571</td>\n",
       "      <td>77.725000</td>\n",
       "      <td>0.516786</td>\n",
       "      <td>corn</td>\n",
       "    </tr>\n",
       "    <tr>\n",
       "      <th>4</th>\n",
       "      <td>-88.707511</td>\n",
       "      <td>41.815454</td>\n",
       "      <td>0.2536</td>\n",
       "      <td>6.576923</td>\n",
       "      <td>2.757692</td>\n",
       "      <td>74.657692</td>\n",
       "      <td>1.993077</td>\n",
       "      <td>corn</td>\n",
       "    </tr>\n",
       "    <tr>\n",
       "      <th>...</th>\n",
       "      <td>...</td>\n",
       "      <td>...</td>\n",
       "      <td>...</td>\n",
       "      <td>...</td>\n",
       "      <td>...</td>\n",
       "      <td>...</td>\n",
       "      <td>...</td>\n",
       "      <td>...</td>\n",
       "    </tr>\n",
       "    <tr>\n",
       "      <th>1125063</th>\n",
       "      <td>-111.014926</td>\n",
       "      <td>47.373779</td>\n",
       "      <td>0.2333</td>\n",
       "      <td>23.580645</td>\n",
       "      <td>18.361290</td>\n",
       "      <td>70.741935</td>\n",
       "      <td>3.170645</td>\n",
       "      <td>barley</td>\n",
       "    </tr>\n",
       "    <tr>\n",
       "      <th>1125064</th>\n",
       "      <td>-111.014926</td>\n",
       "      <td>47.373779</td>\n",
       "      <td>-0.0498</td>\n",
       "      <td>18.466667</td>\n",
       "      <td>13.146667</td>\n",
       "      <td>75.506667</td>\n",
       "      <td>0.880667</td>\n",
       "      <td>barley</td>\n",
       "    </tr>\n",
       "    <tr>\n",
       "      <th>1125065</th>\n",
       "      <td>-111.014926</td>\n",
       "      <td>47.373779</td>\n",
       "      <td>0.2489</td>\n",
       "      <td>18.466667</td>\n",
       "      <td>13.146667</td>\n",
       "      <td>75.506667</td>\n",
       "      <td>0.880667</td>\n",
       "      <td>barley</td>\n",
       "    </tr>\n",
       "    <tr>\n",
       "      <th>1125066</th>\n",
       "      <td>-111.014926</td>\n",
       "      <td>47.373779</td>\n",
       "      <td>0.2728</td>\n",
       "      <td>12.000000</td>\n",
       "      <td>7.858065</td>\n",
       "      <td>75.577419</td>\n",
       "      <td>3.589032</td>\n",
       "      <td>barley</td>\n",
       "    </tr>\n",
       "    <tr>\n",
       "      <th>1125067</th>\n",
       "      <td>-111.014926</td>\n",
       "      <td>47.373779</td>\n",
       "      <td>-0.0222</td>\n",
       "      <td>12.000000</td>\n",
       "      <td>7.858065</td>\n",
       "      <td>75.577419</td>\n",
       "      <td>3.589032</td>\n",
       "      <td>barley</td>\n",
       "    </tr>\n",
       "  </tbody>\n",
       "</table>\n",
       "<p>1125068 rows × 8 columns</p>\n",
       "</div>"
      ],
      "text/plain": [
       "          longitude   latitude    NDVI   Max Temp   Ave Temp  Ave Humidity  \\\n",
       "0        -88.707511  41.815454  0.2518   1.705882  -1.476471     85.888235   \n",
       "1        -88.707511  41.815454  0.3869   1.705882  -1.476471     85.888235   \n",
       "2        -88.707511  41.815454  0.2607   7.857143   1.678571     77.725000   \n",
       "3        -88.707511  41.815454  0.2353   7.857143   1.678571     77.725000   \n",
       "4        -88.707511  41.815454  0.2536   6.576923   2.757692     74.657692   \n",
       "...             ...        ...     ...        ...        ...           ...   \n",
       "1125063 -111.014926  47.373779  0.2333  23.580645  18.361290     70.741935   \n",
       "1125064 -111.014926  47.373779 -0.0498  18.466667  13.146667     75.506667   \n",
       "1125065 -111.014926  47.373779  0.2489  18.466667  13.146667     75.506667   \n",
       "1125066 -111.014926  47.373779  0.2728  12.000000   7.858065     75.577419   \n",
       "1125067 -111.014926  47.373779 -0.0222  12.000000   7.858065     75.577419   \n",
       "\n",
       "         Rainfall Crop_Type  \n",
       "0        1.673529      corn  \n",
       "1        1.673529      corn  \n",
       "2        0.516786      corn  \n",
       "3        0.516786      corn  \n",
       "4        1.993077      corn  \n",
       "...           ...       ...  \n",
       "1125063  3.170645   barley   \n",
       "1125064  0.880667   barley   \n",
       "1125065  0.880667   barley   \n",
       "1125066  3.589032   barley   \n",
       "1125067  3.589032   barley   \n",
       "\n",
       "[1125068 rows x 8 columns]"
      ]
     },
     "execution_count": 138,
     "metadata": {},
     "output_type": "execute_result"
    }
   ],
   "source": [
    "#for drop a columns\n",
    "#this means it drop columns name , for drop a culumns we use axis is 1\n",
    "df.drop(columns='Min Temp',axis=1)"
   ]
  },
  {
   "cell_type": "code",
   "execution_count": 139,
   "id": "28fc9256",
   "metadata": {},
   "outputs": [
    {
     "data": {
      "text/plain": [
       "longitude      -88.707511\n",
       "latitude        41.815454\n",
       "NDVI               0.2536\n",
       "Max Temp         6.576923\n",
       "Ave Temp         2.757692\n",
       "Min Temp        -1.153846\n",
       "Ave Humidity    74.657692\n",
       "Rainfall         1.993077\n",
       "Crop_Type            corn\n",
       "Name: 4, dtype: object"
      ]
     },
     "execution_count": 139,
     "metadata": {},
     "output_type": "execute_result"
    }
   ],
   "source": [
    "# for print a specific row we use\n",
    "df.iloc[4]"
   ]
  },
  {
   "cell_type": "code",
   "execution_count": 140,
   "id": "dd4b8831",
   "metadata": {},
   "outputs": [
    {
     "data": {
      "text/plain": [
       "0             corn\n",
       "1             corn\n",
       "2             corn\n",
       "3             corn\n",
       "4             corn\n",
       "            ...   \n",
       "1125063    barley \n",
       "1125064    barley \n",
       "1125065    barley \n",
       "1125066    barley \n",
       "1125067    barley \n",
       "Name: Crop_Type, Length: 1125068, dtype: object"
      ]
     },
     "execution_count": 140,
     "metadata": {},
     "output_type": "execute_result"
    }
   ],
   "source": [
    "#for print specific columns\n",
    "df.iloc[:,1] # for first columns\n",
    "df.iloc[:,2] # for second columns\n",
    "df.iloc[:,-1] # for last columns\n"
   ]
  },
  {
   "cell_type": "code",
   "execution_count": 141,
   "id": "3452d337",
   "metadata": {},
   "outputs": [
    {
     "data": {
      "text/html": [
       "<div>\n",
       "<style scoped>\n",
       "    .dataframe tbody tr th:only-of-type {\n",
       "        vertical-align: middle;\n",
       "    }\n",
       "\n",
       "    .dataframe tbody tr th {\n",
       "        vertical-align: top;\n",
       "    }\n",
       "\n",
       "    .dataframe thead th {\n",
       "        text-align: right;\n",
       "    }\n",
       "</style>\n",
       "<table border=\"1\" class=\"dataframe\">\n",
       "  <thead>\n",
       "    <tr style=\"text-align: right;\">\n",
       "      <th></th>\n",
       "      <th>longitude</th>\n",
       "      <th>latitude</th>\n",
       "      <th>NDVI</th>\n",
       "      <th>Max Temp</th>\n",
       "      <th>Ave Temp</th>\n",
       "      <th>Min Temp</th>\n",
       "      <th>Ave Humidity</th>\n",
       "      <th>Rainfall</th>\n",
       "    </tr>\n",
       "  </thead>\n",
       "  <tbody>\n",
       "    <tr>\n",
       "      <th>longitude</th>\n",
       "      <td>1.000000</td>\n",
       "      <td>-0.542726</td>\n",
       "      <td>0.361529</td>\n",
       "      <td>-0.084084</td>\n",
       "      <td>-0.084662</td>\n",
       "      <td>-0.097699</td>\n",
       "      <td>0.309922</td>\n",
       "      <td>-0.161185</td>\n",
       "    </tr>\n",
       "    <tr>\n",
       "      <th>latitude</th>\n",
       "      <td>-0.542726</td>\n",
       "      <td>1.000000</td>\n",
       "      <td>-0.259315</td>\n",
       "      <td>-0.145154</td>\n",
       "      <td>-0.098597</td>\n",
       "      <td>-0.061425</td>\n",
       "      <td>0.217197</td>\n",
       "      <td>0.052094</td>\n",
       "    </tr>\n",
       "    <tr>\n",
       "      <th>NDVI</th>\n",
       "      <td>0.361529</td>\n",
       "      <td>-0.259315</td>\n",
       "      <td>1.000000</td>\n",
       "      <td>0.546387</td>\n",
       "      <td>0.565098</td>\n",
       "      <td>0.565724</td>\n",
       "      <td>0.190643</td>\n",
       "      <td>0.082784</td>\n",
       "    </tr>\n",
       "    <tr>\n",
       "      <th>Max Temp</th>\n",
       "      <td>-0.084084</td>\n",
       "      <td>-0.145154</td>\n",
       "      <td>0.546387</td>\n",
       "      <td>1.000000</td>\n",
       "      <td>0.988281</td>\n",
       "      <td>0.953196</td>\n",
       "      <td>0.138069</td>\n",
       "      <td>0.382922</td>\n",
       "    </tr>\n",
       "    <tr>\n",
       "      <th>Ave Temp</th>\n",
       "      <td>-0.084662</td>\n",
       "      <td>-0.098597</td>\n",
       "      <td>0.565098</td>\n",
       "      <td>0.988281</td>\n",
       "      <td>1.000000</td>\n",
       "      <td>0.986913</td>\n",
       "      <td>0.133317</td>\n",
       "      <td>0.386208</td>\n",
       "    </tr>\n",
       "    <tr>\n",
       "      <th>Min Temp</th>\n",
       "      <td>-0.097699</td>\n",
       "      <td>-0.061425</td>\n",
       "      <td>0.565724</td>\n",
       "      <td>0.953196</td>\n",
       "      <td>0.986913</td>\n",
       "      <td>1.000000</td>\n",
       "      <td>0.116980</td>\n",
       "      <td>0.402712</td>\n",
       "    </tr>\n",
       "    <tr>\n",
       "      <th>Ave Humidity</th>\n",
       "      <td>0.309922</td>\n",
       "      <td>0.217197</td>\n",
       "      <td>0.190643</td>\n",
       "      <td>0.138069</td>\n",
       "      <td>0.133317</td>\n",
       "      <td>0.116980</td>\n",
       "      <td>1.000000</td>\n",
       "      <td>0.157857</td>\n",
       "    </tr>\n",
       "    <tr>\n",
       "      <th>Rainfall</th>\n",
       "      <td>-0.161185</td>\n",
       "      <td>0.052094</td>\n",
       "      <td>0.082784</td>\n",
       "      <td>0.382922</td>\n",
       "      <td>0.386208</td>\n",
       "      <td>0.402712</td>\n",
       "      <td>0.157857</td>\n",
       "      <td>1.000000</td>\n",
       "    </tr>\n",
       "  </tbody>\n",
       "</table>\n",
       "</div>"
      ],
      "text/plain": [
       "              longitude  latitude      NDVI  Max Temp  Ave Temp  Min Temp  \\\n",
       "longitude      1.000000 -0.542726  0.361529 -0.084084 -0.084662 -0.097699   \n",
       "latitude      -0.542726  1.000000 -0.259315 -0.145154 -0.098597 -0.061425   \n",
       "NDVI           0.361529 -0.259315  1.000000  0.546387  0.565098  0.565724   \n",
       "Max Temp      -0.084084 -0.145154  0.546387  1.000000  0.988281  0.953196   \n",
       "Ave Temp      -0.084662 -0.098597  0.565098  0.988281  1.000000  0.986913   \n",
       "Min Temp      -0.097699 -0.061425  0.565724  0.953196  0.986913  1.000000   \n",
       "Ave Humidity   0.309922  0.217197  0.190643  0.138069  0.133317  0.116980   \n",
       "Rainfall      -0.161185  0.052094  0.082784  0.382922  0.386208  0.402712   \n",
       "\n",
       "              Ave Humidity  Rainfall  \n",
       "longitude         0.309922 -0.161185  \n",
       "latitude          0.217197  0.052094  \n",
       "NDVI              0.190643  0.082784  \n",
       "Max Temp          0.138069  0.382922  \n",
       "Ave Temp          0.133317  0.386208  \n",
       "Min Temp          0.116980  0.402712  \n",
       "Ave Humidity      1.000000  0.157857  \n",
       "Rainfall          0.157857  1.000000  "
      ]
     },
     "execution_count": 141,
     "metadata": {},
     "output_type": "execute_result"
    }
   ],
   "source": [
    "#for correlation means relationship between two columns -> generally used in regression\n",
    "df.corr()"
   ]
  },
  {
   "cell_type": "code",
   "execution_count": 142,
   "id": "ec5951c1",
   "metadata": {},
   "outputs": [
    {
     "data": {
      "text/html": [
       "<div>\n",
       "<style scoped>\n",
       "    .dataframe tbody tr th:only-of-type {\n",
       "        vertical-align: middle;\n",
       "    }\n",
       "\n",
       "    .dataframe tbody tr th {\n",
       "        vertical-align: top;\n",
       "    }\n",
       "\n",
       "    .dataframe thead th {\n",
       "        text-align: right;\n",
       "    }\n",
       "</style>\n",
       "<table border=\"1\" class=\"dataframe\">\n",
       "  <thead>\n",
       "    <tr style=\"text-align: right;\">\n",
       "      <th></th>\n",
       "      <th>longitude</th>\n",
       "      <th>latitude</th>\n",
       "      <th>NDVI</th>\n",
       "      <th>Max Temp</th>\n",
       "      <th>Ave Temp</th>\n",
       "      <th>Min Temp</th>\n",
       "      <th>Ave Humidity</th>\n",
       "      <th>Rainfall</th>\n",
       "    </tr>\n",
       "    <tr>\n",
       "      <th>Crop_Type</th>\n",
       "      <th></th>\n",
       "      <th></th>\n",
       "      <th></th>\n",
       "      <th></th>\n",
       "      <th></th>\n",
       "      <th></th>\n",
       "      <th></th>\n",
       "      <th></th>\n",
       "    </tr>\n",
       "  </thead>\n",
       "  <tbody>\n",
       "    <tr>\n",
       "      <th>barley</th>\n",
       "      <td>-110.841006</td>\n",
       "      <td>47.835212</td>\n",
       "      <td>0.235331</td>\n",
       "      <td>22.970353</td>\n",
       "      <td>18.115790</td>\n",
       "      <td>13.719989</td>\n",
       "      <td>69.945016</td>\n",
       "      <td>3.623649</td>\n",
       "    </tr>\n",
       "    <tr>\n",
       "      <th>barley</th>\n",
       "      <td>-110.952779</td>\n",
       "      <td>47.887583</td>\n",
       "      <td>0.235396</td>\n",
       "      <td>22.970353</td>\n",
       "      <td>18.115790</td>\n",
       "      <td>13.719989</td>\n",
       "      <td>69.945016</td>\n",
       "      <td>3.623649</td>\n",
       "    </tr>\n",
       "    <tr>\n",
       "      <th>corn</th>\n",
       "      <td>-91.590901</td>\n",
       "      <td>41.469000</td>\n",
       "      <td>0.426832</td>\n",
       "      <td>14.721269</td>\n",
       "      <td>9.982628</td>\n",
       "      <td>4.715796</td>\n",
       "      <td>76.984926</td>\n",
       "      <td>1.441825</td>\n",
       "    </tr>\n",
       "    <tr>\n",
       "      <th>cotton</th>\n",
       "      <td>-92.590345</td>\n",
       "      <td>33.755038</td>\n",
       "      <td>0.453899</td>\n",
       "      <td>21.977489</td>\n",
       "      <td>16.212095</td>\n",
       "      <td>10.900855</td>\n",
       "      <td>66.683535</td>\n",
       "      <td>1.968689</td>\n",
       "    </tr>\n",
       "    <tr>\n",
       "      <th>soy</th>\n",
       "      <td>-91.440834</td>\n",
       "      <td>41.162321</td>\n",
       "      <td>0.408546</td>\n",
       "      <td>14.721269</td>\n",
       "      <td>9.982628</td>\n",
       "      <td>4.715796</td>\n",
       "      <td>76.984926</td>\n",
       "      <td>1.441825</td>\n",
       "    </tr>\n",
       "    <tr>\n",
       "      <th>spring wheat</th>\n",
       "      <td>-100.683388</td>\n",
       "      <td>47.082037</td>\n",
       "      <td>0.269641</td>\n",
       "      <td>13.058256</td>\n",
       "      <td>8.762888</td>\n",
       "      <td>4.131962</td>\n",
       "      <td>71.583926</td>\n",
       "      <td>0.896004</td>\n",
       "    </tr>\n",
       "    <tr>\n",
       "      <th>winter wheat</th>\n",
       "      <td>-103.382219</td>\n",
       "      <td>38.930575</td>\n",
       "      <td>0.247719</td>\n",
       "      <td>16.258803</td>\n",
       "      <td>10.339020</td>\n",
       "      <td>4.309366</td>\n",
       "      <td>45.273019</td>\n",
       "      <td>0.972150</td>\n",
       "    </tr>\n",
       "  </tbody>\n",
       "</table>\n",
       "</div>"
      ],
      "text/plain": [
       "               longitude   latitude      NDVI   Max Temp   Ave Temp  \\\n",
       "Crop_Type                                                             \n",
       "barley       -110.841006  47.835212  0.235331  22.970353  18.115790   \n",
       "barley       -110.952779  47.887583  0.235396  22.970353  18.115790   \n",
       "corn          -91.590901  41.469000  0.426832  14.721269   9.982628   \n",
       "cotton        -92.590345  33.755038  0.453899  21.977489  16.212095   \n",
       "soy           -91.440834  41.162321  0.408546  14.721269   9.982628   \n",
       "spring wheat -100.683388  47.082037  0.269641  13.058256   8.762888   \n",
       "winter wheat -103.382219  38.930575  0.247719  16.258803  10.339020   \n",
       "\n",
       "               Min Temp  Ave Humidity  Rainfall  \n",
       "Crop_Type                                        \n",
       "barley        13.719989     69.945016  3.623649  \n",
       "barley        13.719989     69.945016  3.623649  \n",
       "corn           4.715796     76.984926  1.441825  \n",
       "cotton        10.900855     66.683535  1.968689  \n",
       "soy            4.715796     76.984926  1.441825  \n",
       "spring wheat   4.131962     71.583926  0.896004  \n",
       "winter wheat   4.309366     45.273019  0.972150  "
      ]
     },
     "execution_count": 142,
     "metadata": {},
     "output_type": "execute_result"
    }
   ],
   "source": [
    "#group the values based on means\n",
    "df.groupby('Crop_Type').mean()"
   ]
  },
  {
   "cell_type": "code",
   "execution_count": 143,
   "id": "abc28de2",
   "metadata": {},
   "outputs": [
    {
     "data": {
      "text/plain": [
       "(1125068, 9)"
      ]
     },
     "execution_count": 143,
     "metadata": {},
     "output_type": "execute_result"
    }
   ],
   "source": [
    "#check the dimension of dataset\n",
    "df.shape"
   ]
  },
  {
   "cell_type": "code",
   "execution_count": 144,
   "id": "00d20d8e",
   "metadata": {},
   "outputs": [],
   "source": [
    "# delete duplicate rows\n",
    "df.drop_duplicates(inplace=True)"
   ]
  },
  {
   "cell_type": "code",
   "execution_count": 145,
   "id": "a14219f6",
   "metadata": {},
   "outputs": [
    {
     "data": {
      "text/plain": [
       "(1116909, 9)"
      ]
     },
     "execution_count": 145,
     "metadata": {},
     "output_type": "execute_result"
    }
   ],
   "source": [
    "#check the dimension of dataset\n",
    "df.shape"
   ]
  },
  {
   "cell_type": "code",
   "execution_count": 146,
   "id": "345af63d",
   "metadata": {},
   "outputs": [
    {
     "data": {
      "text/html": [
       "<div>\n",
       "<style scoped>\n",
       "    .dataframe tbody tr th:only-of-type {\n",
       "        vertical-align: middle;\n",
       "    }\n",
       "\n",
       "    .dataframe tbody tr th {\n",
       "        vertical-align: top;\n",
       "    }\n",
       "\n",
       "    .dataframe thead th {\n",
       "        text-align: right;\n",
       "    }\n",
       "</style>\n",
       "<table border=\"1\" class=\"dataframe\">\n",
       "  <thead>\n",
       "    <tr style=\"text-align: right;\">\n",
       "      <th></th>\n",
       "      <th>longitude</th>\n",
       "      <th>latitude</th>\n",
       "      <th>NDVI</th>\n",
       "      <th>Max Temp</th>\n",
       "      <th>Ave Temp</th>\n",
       "      <th>Min Temp</th>\n",
       "      <th>Ave Humidity</th>\n",
       "      <th>Rainfall</th>\n",
       "    </tr>\n",
       "  </thead>\n",
       "  <tbody>\n",
       "    <tr>\n",
       "      <th>count</th>\n",
       "      <td>1.116909e+06</td>\n",
       "      <td>1.116909e+06</td>\n",
       "      <td>1.116909e+06</td>\n",
       "      <td>1.116909e+06</td>\n",
       "      <td>1.116909e+06</td>\n",
       "      <td>1.116909e+06</td>\n",
       "      <td>1.116909e+06</td>\n",
       "      <td>1.116909e+06</td>\n",
       "    </tr>\n",
       "    <tr>\n",
       "      <th>mean</th>\n",
       "      <td>-9.732438e+01</td>\n",
       "      <td>4.131300e+01</td>\n",
       "      <td>3.510338e-01</td>\n",
       "      <td>1.685842e+01</td>\n",
       "      <td>1.181526e+01</td>\n",
       "      <td>6.629374e+00</td>\n",
       "      <td>6.836212e+01</td>\n",
       "      <td>1.594675e+00</td>\n",
       "    </tr>\n",
       "    <tr>\n",
       "      <th>std</th>\n",
       "      <td>7.594260e+00</td>\n",
       "      <td>4.843454e+00</td>\n",
       "      <td>2.305099e-01</td>\n",
       "      <td>9.433586e+00</td>\n",
       "      <td>9.163612e+00</td>\n",
       "      <td>9.224530e+00</td>\n",
       "      <td>1.477879e+01</td>\n",
       "      <td>1.552961e+00</td>\n",
       "    </tr>\n",
       "    <tr>\n",
       "      <th>min</th>\n",
       "      <td>-1.126791e+02</td>\n",
       "      <td>3.071003e+01</td>\n",
       "      <td>-1.921000e-01</td>\n",
       "      <td>-1.470833e+01</td>\n",
       "      <td>-9.266667e+00</td>\n",
       "      <td>-1.008333e+01</td>\n",
       "      <td>-5.676250e+01</td>\n",
       "      <td>-1.908333e-01</td>\n",
       "    </tr>\n",
       "    <tr>\n",
       "      <th>25%</th>\n",
       "      <td>-1.023260e+02</td>\n",
       "      <td>3.840410e+01</td>\n",
       "      <td>2.231000e-01</td>\n",
       "      <td>8.645161e+00</td>\n",
       "      <td>2.757692e+00</td>\n",
       "      <td>-2.750000e+00</td>\n",
       "      <td>6.518000e+01</td>\n",
       "      <td>2.647826e-01</td>\n",
       "    </tr>\n",
       "    <tr>\n",
       "      <th>50%</th>\n",
       "      <td>-9.846097e+01</td>\n",
       "      <td>4.117990e+01</td>\n",
       "      <td>2.762000e-01</td>\n",
       "      <td>1.846667e+01</td>\n",
       "      <td>1.314667e+01</td>\n",
       "      <td>7.714286e+00</td>\n",
       "      <td>7.146452e+01</td>\n",
       "      <td>1.204074e+00</td>\n",
       "    </tr>\n",
       "    <tr>\n",
       "      <th>75%</th>\n",
       "      <td>-9.047944e+01</td>\n",
       "      <td>4.630703e+01</td>\n",
       "      <td>4.339000e-01</td>\n",
       "      <td>2.421429e+01</td>\n",
       "      <td>1.913214e+01</td>\n",
       "      <td>1.414286e+01</td>\n",
       "      <td>7.567600e+01</td>\n",
       "      <td>2.506333e+00</td>\n",
       "    </tr>\n",
       "    <tr>\n",
       "      <th>max</th>\n",
       "      <td>-8.171413e+01</td>\n",
       "      <td>4.899748e+01</td>\n",
       "      <td>9.940000e-01</td>\n",
       "      <td>3.150000e+01</td>\n",
       "      <td>2.747917e+01</td>\n",
       "      <td>2.362500e+01</td>\n",
       "      <td>8.661364e+01</td>\n",
       "      <td>6.825161e+00</td>\n",
       "    </tr>\n",
       "  </tbody>\n",
       "</table>\n",
       "</div>"
      ],
      "text/plain": [
       "          longitude      latitude          NDVI      Max Temp      Ave Temp  \\\n",
       "count  1.116909e+06  1.116909e+06  1.116909e+06  1.116909e+06  1.116909e+06   \n",
       "mean  -9.732438e+01  4.131300e+01  3.510338e-01  1.685842e+01  1.181526e+01   \n",
       "std    7.594260e+00  4.843454e+00  2.305099e-01  9.433586e+00  9.163612e+00   \n",
       "min   -1.126791e+02  3.071003e+01 -1.921000e-01 -1.470833e+01 -9.266667e+00   \n",
       "25%   -1.023260e+02  3.840410e+01  2.231000e-01  8.645161e+00  2.757692e+00   \n",
       "50%   -9.846097e+01  4.117990e+01  2.762000e-01  1.846667e+01  1.314667e+01   \n",
       "75%   -9.047944e+01  4.630703e+01  4.339000e-01  2.421429e+01  1.913214e+01   \n",
       "max   -8.171413e+01  4.899748e+01  9.940000e-01  3.150000e+01  2.747917e+01   \n",
       "\n",
       "           Min Temp  Ave Humidity      Rainfall  \n",
       "count  1.116909e+06  1.116909e+06  1.116909e+06  \n",
       "mean   6.629374e+00  6.836212e+01  1.594675e+00  \n",
       "std    9.224530e+00  1.477879e+01  1.552961e+00  \n",
       "min   -1.008333e+01 -5.676250e+01 -1.908333e-01  \n",
       "25%   -2.750000e+00  6.518000e+01  2.647826e-01  \n",
       "50%    7.714286e+00  7.146452e+01  1.204074e+00  \n",
       "75%    1.414286e+01  7.567600e+01  2.506333e+00  \n",
       "max    2.362500e+01  8.661364e+01  6.825161e+00  "
      ]
     },
     "execution_count": 146,
     "metadata": {},
     "output_type": "execute_result"
    }
   ],
   "source": [
    "df.describe()"
   ]
  },
  {
   "cell_type": "code",
   "execution_count": 147,
   "id": "07a0d0c2",
   "metadata": {},
   "outputs": [
    {
     "data": {
      "text/plain": [
       "longitude       0\n",
       "latitude        0\n",
       "NDVI            0\n",
       "Max Temp        0\n",
       "Ave Temp        0\n",
       "Min Temp        0\n",
       "Ave Humidity    0\n",
       "Rainfall        0\n",
       "Crop_Type       0\n",
       "dtype: int64"
      ]
     },
     "execution_count": 147,
     "metadata": {},
     "output_type": "execute_result"
    }
   ],
   "source": [
    "#Before cleaning NDVI columns have some rows which is null or give number of missing values\n",
    "df.isnull().sum()"
   ]
  },
  {
   "cell_type": "code",
   "execution_count": 148,
   "id": "9cb62c7e",
   "metadata": {},
   "outputs": [
    {
     "name": "stdout",
     "output_type": "stream",
     "text": [
      "<class 'pandas.core.frame.DataFrame'>\n",
      "Int64Index: 1116909 entries, 0 to 1125067\n",
      "Data columns (total 9 columns):\n",
      " #   Column        Non-Null Count    Dtype  \n",
      "---  ------        --------------    -----  \n",
      " 0   longitude     1116909 non-null  float64\n",
      " 1   latitude      1116909 non-null  float64\n",
      " 2   NDVI          1116909 non-null  float64\n",
      " 3   Max Temp      1116909 non-null  float64\n",
      " 4   Ave Temp      1116909 non-null  float64\n",
      " 5   Min Temp      1116909 non-null  float64\n",
      " 6   Ave Humidity  1116909 non-null  float64\n",
      " 7   Rainfall      1116909 non-null  float64\n",
      " 8   Crop_Type     1116909 non-null  object \n",
      "dtypes: float64(8), object(1)\n",
      "memory usage: 85.2+ MB\n"
     ]
    }
   ],
   "source": [
    "df.info()"
   ]
  },
  {
   "cell_type": "code",
   "execution_count": 149,
   "id": "40607b11",
   "metadata": {},
   "outputs": [],
   "source": [
    "#to clean the data we use this function\n",
    "df=df.dropna()"
   ]
  },
  {
   "cell_type": "code",
   "execution_count": 150,
   "id": "70f66452",
   "metadata": {},
   "outputs": [
    {
     "data": {
      "text/plain": [
       "longitude       0\n",
       "latitude        0\n",
       "NDVI            0\n",
       "Max Temp        0\n",
       "Ave Temp        0\n",
       "Min Temp        0\n",
       "Ave Humidity    0\n",
       "Rainfall        0\n",
       "Crop_Type       0\n",
       "dtype: int64"
      ]
     },
     "execution_count": 150,
     "metadata": {},
     "output_type": "execute_result"
    }
   ],
   "source": [
    "#after cleaning no rows having zeros means Null values\n",
    "df.isnull().sum()"
   ]
  },
  {
   "cell_type": "code",
   "execution_count": 23,
   "id": "7aa66caf",
   "metadata": {},
   "outputs": [
    {
     "name": "stdout",
     "output_type": "stream",
     "text": [
      "Values of features means X\n",
      "           longitude   latitude    NDVI   Max Temp   Ave Temp   Min Temp  \\\n",
      "0        -88.707511  41.815454  0.2518   1.705882  -1.476471  -5.411765   \n",
      "1        -88.707511  41.815454  0.3869   1.705882  -1.476471  -5.411765   \n",
      "2        -88.707511  41.815454  0.2607   7.857143   1.678571  -4.142857   \n",
      "3        -88.707511  41.815454  0.2353   7.857143   1.678571  -4.142857   \n",
      "4        -88.707511  41.815454  0.2536   6.576923   2.757692  -1.153846   \n",
      "...             ...        ...     ...        ...        ...        ...   \n",
      "1125063 -111.014926  47.373779  0.2333  23.580645  18.361290  13.451613   \n",
      "1125064 -111.014926  47.373779 -0.0498  18.466667  13.146667   8.500000   \n",
      "1125065 -111.014926  47.373779  0.2489  18.466667  13.146667   8.500000   \n",
      "1125066 -111.014926  47.373779  0.2728  12.000000   7.858065   4.225806   \n",
      "1125067 -111.014926  47.373779 -0.0222  12.000000   7.858065   4.225806   \n",
      "\n",
      "         Ave Humidity  Rainfall  \n",
      "0           85.888235  1.673529  \n",
      "1           85.888235  1.673529  \n",
      "2           77.725000  0.516786  \n",
      "3           77.725000  0.516786  \n",
      "4           74.657692  1.993077  \n",
      "...               ...       ...  \n",
      "1125063     70.741935  3.170645  \n",
      "1125064     75.506667  0.880667  \n",
      "1125065     75.506667  0.880667  \n",
      "1125066     75.577419  3.589032  \n",
      "1125067     75.577419  3.589032  \n",
      "\n",
      "[1125068 rows x 8 columns]\n",
      "Values of output means y\n",
      " 0          2\n",
      "1          2\n",
      "2          2\n",
      "3          2\n",
      "4          2\n",
      "          ..\n",
      "1125063    1\n",
      "1125064    1\n",
      "1125065    1\n",
      "1125066    1\n",
      "1125067    1\n",
      "Name: Crop_Type, Length: 1125068, dtype: int32\n"
     ]
    }
   ],
   "source": [
    "# prepare the training set\n",
    "# X  is feature columns except the last column which is output\n",
    "X=df.iloc[:, :-1]\n",
    "# y is output values\n",
    "y=df.iloc[:,-1]\n",
    "print(\"Values of features means X\\n\",X)\n",
    "print(\"Values of output means y\\n\",y)\n"
   ]
  },
  {
   "cell_type": "code",
   "execution_count": 11,
   "id": "cd2fdd0a",
   "metadata": {},
   "outputs": [
    {
     "data": {
      "image/png": "[encoded data removed]",
      "text/plain": [
       "<Figure size 432x288 with 1 Axes>"
      ]
     },
     "metadata": {
      "needs_background": "light"
     },
     "output_type": "display_data"
    }
   ],
   "source": [
    "#plot the each feature with output crop\n",
    "plt.xlabel('Features')\n",
    "plt.ylabel('Crop types')\n",
    "\n",
    "# pltX=df.loc[:,'longitude']\n",
    "# pltY=df.loc[:,'Crop_Type']\n",
    "# plt.scatter(pltX,pltY, color='blue' ,label='longitude')\n",
    "\n",
    "# pltX=df.loc[:,'latitude']\n",
    "# pltY=df.loc[:,'Crop_Type']\n",
    "# plt.scatter(pltX,pltY, color='red' ,label='latitude')\n",
    "\n",
    "pltX=df.loc[:,'NDVI']\n",
    "pltY=df.loc[:,'Crop_Type']\n",
    "plt.scatter(pltX,pltY, color='green' ,label='NDVI')\n",
    "\n",
    "pltX=df.loc[:,'Max Temp']\n",
    "pltY=df.loc[:,'Crop_Type']\n",
    "plt.scatter(pltX,pltY, color='yellow' ,label='Max Temp')\n",
    "\n",
    "pltX=df.loc[:,'Ave Temp']\n",
    "pltY=df.loc[:,'Crop_Type']\n",
    "plt.scatter(pltX,pltY, color='purple' ,label='Ave Temp')\n",
    "\n",
    "pltX=df.loc[:,'Min Temp']\n",
    "pltY=df.loc[:,'Crop_Type']\n",
    "plt.scatter(pltX,pltY, color='violet' ,label='Min Temp')\n",
    "\n",
    "pltX=df.loc[:,'Ave Humidity']\n",
    "pltY=df.loc[:,'Crop_Type']\n",
    "plt.scatter(pltX,pltY, color='pink' ,label='Ave Humidity')\n",
    "\n",
    "\n",
    "pltX=df.loc[:,'Rainfall']\n",
    "pltY=df.loc[:,'Crop_Type']\n",
    "plt.scatter(pltX,pltY, color='black' ,label='Rainfall')\n",
    "\n",
    "plt.legend(loc=4,prop={'size':8})\n",
    "plt.show()"
   ]
  },
  {
   "cell_type": "code",
   "execution_count": 26,
   "id": "f98fca8f",
   "metadata": {},
   "outputs": [
    {
     "name": "stdout",
     "output_type": "stream",
     "text": [
      "this is dataset after converting the pandas to numpy \n",
      " [ 7.60171067  4.84917459  0.23030567  9.43185962  9.16128698  9.22277029\n",
      " 14.81980409  1.55479588  1.65105963]\n",
      "This is data type of our dataset\n",
      " <class 'numpy.ndarray'>\n"
     ]
    }
   ],
   "source": [
    "#slipt the data into training data(75%) and test data(25%)\n",
    "df= df.to_numpy()\n",
    "#converting the dataset pandas to numpy array ndarray\n",
    "print(\"this is dataset after converting the pandas to numpy \\n\",df)\n",
    "print(\"This is data type of our dataset\\n\",type(df))\n",
    "x_train,x_test,y_train,y_test=train_test_split(X,y,test_size=0.25,random_state=42)"
   ]
  },
  {
   "cell_type": "code",
   "execution_count": 27,
   "id": "d8c5c8d8",
   "metadata": {},
   "outputs": [],
   "source": [
    "#standardizing the data\n",
    "df=df.std()"
   ]
  },
  {
   "cell_type": "code",
   "execution_count": 28,
   "id": "9ff2acc7",
   "metadata": {},
   "outputs": [
    {
     "name": "stdout",
     "output_type": "stream",
     "text": [
      "values of x_train\n",
      " [[ 1.25619984 -1.32605291  1.3418211  ...  1.52465839 -0.1652888\n",
      "  -0.96526537]\n",
      " [-0.14006192  1.02813916 -0.32354531 ... -1.12669751 -0.06688175\n",
      "  -0.45483016]\n",
      " [-0.6384736  -0.46459369  0.12741005 ... -0.38052375 -1.14558952\n",
      "  -0.10682563]\n",
      " ...\n",
      " [ 0.74715223  0.21160549 -0.48153159 ... -0.84526673  0.42854235\n",
      "   0.25494281]\n",
      " [ 0.41625651  0.0508924   1.33270651 ...  0.79745515  0.99565392\n",
      "  -0.25227991]\n",
      " [ 0.99946022 -0.43726783  1.88826267 ...  1.23106702  1.23578018\n",
      "  -0.61081271]]\n",
      "values of x_test\n",
      " [[-0.21864965  1.18792595  1.22072722 ...  0.23809584 -0.06688175\n",
      "  -0.17081218]\n",
      " [ 0.80387721 -0.18994566 -0.33743421 ... -1.16928439  0.63563991\n",
      "  -0.69411388]\n",
      " [-0.93509796 -0.27794419  0.09181973 ...  0.70350592 -1.77980578\n",
      "  -0.75419119]\n",
      " ...\n",
      " [ 0.54566037  0.23522615  1.85744666 ...  0.93115215  0.01706525\n",
      "   0.58489765]\n",
      " [ 0.87419255  0.01476669 -0.13170482 ...  0.0646511   0.49729614\n",
      "   0.83514376]\n",
      " [ 1.427852   -1.32605291  2.46074594 ...  1.46186043  0.38892806\n",
      "   2.72944857]]\n"
     ]
    }
   ],
   "source": [
    "# Feature Scaling\n",
    "sc = StandardScaler()\n",
    "x_train = sc.fit_transform(x_train)\n",
    "x_test = sc.transform(x_test)\n",
    "print(\"values of x_train\\n\",x_train)\n",
    "print(\"values of x_test\\n\",x_test)"
   ]
  },
  {
   "cell_type": "code",
   "execution_count": 29,
   "id": "1035380e",
   "metadata": {},
   "outputs": [
    {
     "name": "stdout",
     "output_type": "stream",
     "text": [
      "values of standardized x_train range\n",
      " 1.0\n",
      "values of standardized x_test range\n",
      " 0.9995924885418935\n"
     ]
    }
   ],
   "source": [
    "#standardizing the range\n",
    "print(\"values of standardized x_train range\\n\",x_train.std())\n",
    "print(\"values of standardized x_test range\\n\",x_test.std())"
   ]
  },
  {
   "cell_type": "code",
   "execution_count": 30,
   "id": "5ce806c1",
   "metadata": {},
   "outputs": [
    {
     "data": {
      "text/plain": [
       "DecisionTreeClassifier()"
      ]
     },
     "execution_count": 30,
     "metadata": {},
     "output_type": "execute_result"
    }
   ],
   "source": [
    "#train the model\n",
    "model=DecisionTreeClassifier()\n",
    "model.fit(x_train,y_train)"
   ]
  },
  {
   "cell_type": "code",
   "execution_count": 31,
   "id": "695d342e",
   "metadata": {},
   "outputs": [
    {
     "name": "stdout",
     "output_type": "stream",
     "text": [
      "              precision    recall  f1-score   support\n",
      "\n",
      "           0       0.97      0.97      0.97      7452\n",
      "           1       0.99      0.99      0.99     22525\n",
      "           2       0.74      0.74      0.74     51755\n",
      "           3       1.00      1.00      1.00     51585\n",
      "           4       0.74      0.74      0.74     51519\n",
      "           5       1.00      1.00      1.00     51675\n",
      "           6       1.00      1.00      1.00     44756\n",
      "\n",
      "    accuracy                           0.90    281267\n",
      "   macro avg       0.92      0.92      0.92    281267\n",
      "weighted avg       0.90      0.90      0.90    281267\n",
      "\n",
      "Accuracy of algorithm Decision tree :\n",
      " 90.45284373922287\n"
     ]
    }
   ],
   "source": [
    "#test the model\n",
    "predictions=model.predict(x_test)\n",
    "#check precision,recall,f1 score\n",
    "print(classification_report(y_test,predictions))\n",
    "# check the accuracy of algorithms\n",
    "print(\"Accuracy of algorithm Decision tree :\\n\",accuracy_score(y_test,predictions)*100)\n",
    "# print(predictions),predictions\n",
    "# print(y_test)"
   ]
  },
  {
   "cell_type": "code",
   "execution_count": 32,
   "id": "39789b9d",
   "metadata": {},
   "outputs": [
    {
     "name": "stdout",
     "output_type": "stream",
     "text": [
      "the importance of features 'longitude' is :  43.99%\n",
      "the importance of features 'latitude' is :  50.47%\n",
      "the importance of features 'NDVI' is :  4.45%\n",
      "the importance of features 'Max Temp' is :  0.22%\n",
      "the importance of features 'Ave Temp' is :  0.17%\n",
      "the importance of features 'Min Temp' is :  0.21%\n",
      "the importance of features 'Ave Humidity' is :  0.3%\n",
      "the importance of features 'Rainfall' is :  0.19%\n"
     ]
    }
   ],
   "source": [
    "# check which features more important for the classification\n",
    "imp_features=model.feature_importances_\n",
    "columns=X.columns\n",
    "i=0\n",
    "\n",
    "while i<len(columns):\n",
    "    print(f\"the importance of features '{columns[i]}' is :  {round(imp_features[i]*100,2)}%\")\n",
    "    i+=1"
   ]
  },
  {
   "cell_type": "code",
   "execution_count": 33,
   "id": "83c9b03d",
   "metadata": {},
   "outputs": [
    {
     "data": {
      "image/png": "[encoded data removed]",
      "text/plain": [
       "<Figure size 432x288 with 1 Axes>"
      ]
     },
     "metadata": {
      "needs_background": "light"
     },
     "output_type": "display_data"
    }
   ],
   "source": [
    "# plot feature importance\n",
    "plt.bar([x for x in range(len(imp_features))], imp_features)\n",
    "plt.show()"
   ]
  },
  {
   "cell_type": "code",
   "execution_count": null,
   "id": "2d5eb86f",
   "metadata": {},
   "outputs": [],
   "source": []
  }
 ],
 "metadata": {
  "kernelspec": {
   "display_name": "Python 3 (ipykernel)",
   "language": "python",
   "name": "python3"
  },
  "language_info": {
   "codemirror_mode": {
    "name": "ipython",
    "version": 3
   },
   "file_extension": ".py",
   "mimetype": "text/x-python",
   "name": "python",
   "nbconvert_exporter": "python",
   "pygments_lexer": "ipython3",
   "version": "3.9.12"
  }
 },
 "nbformat": 4,
 "nbformat_minor": 5
}
