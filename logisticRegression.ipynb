{
 "cells": [
  {
   "cell_type": "code",
   "execution_count": 1,
   "id": "f9f8f201",
   "metadata": {},
   "outputs": [],
   "source": [
    "%matplotlib inline\n",
    "from sklearn.linear_model import LogisticRegression\n",
    "from sklearn.neighbors import KNeighborsClassifier\n",
    "import pandas as pd\n",
    "import numpy as np\n",
    "import matplotlib.pyplot as plt\n",
    "from sklearn.model_selection import train_test_split\n",
    "from sklearn.svm import SVC\n",
    "from sklearn.metrics import classification_report\n",
    "from sklearn.metrics import accuracy_score\n",
    "import seaborn as sns\n",
    "from sklearn.preprocessing import StandardScaler"
   ]
  },
  {
   "cell_type": "code",
   "execution_count": 2,
   "id": "ca9aa585",
   "metadata": {},
   "outputs": [
    {
     "data": {
      "text/html": [
       "<div>\n",
       "<style scoped>\n",
       "    .dataframe tbody tr th:only-of-type {\n",
       "        vertical-align: middle;\n",
       "    }\n",
       "\n",
       "    .dataframe tbody tr th {\n",
       "        vertical-align: top;\n",
       "    }\n",
       "\n",
       "    .dataframe thead th {\n",
       "        text-align: right;\n",
       "    }\n",
       "</style>\n",
       "<table border=\"1\" class=\"dataframe\">\n",
       "  <thead>\n",
       "    <tr style=\"text-align: right;\">\n",
       "      <th></th>\n",
       "      <th>longitude</th>\n",
       "      <th>latitude</th>\n",
       "      <th>NDVI</th>\n",
       "      <th>Max Temp</th>\n",
       "      <th>Ave Temp</th>\n",
       "      <th>Min Temp</th>\n",
       "      <th>Ave Humidity</th>\n",
       "      <th>Rainfall</th>\n",
       "      <th>Crop_Type</th>\n",
       "    </tr>\n",
       "  </thead>\n",
       "  <tbody>\n",
       "    <tr>\n",
       "      <th>0</th>\n",
       "      <td>-88.707511</td>\n",
       "      <td>41.815454</td>\n",
       "      <td>0.2518</td>\n",
       "      <td>1.705882</td>\n",
       "      <td>-1.476471</td>\n",
       "      <td>-5.411765</td>\n",
       "      <td>85.888235</td>\n",
       "      <td>1.673529</td>\n",
       "      <td>corn</td>\n",
       "    </tr>\n",
       "    <tr>\n",
       "      <th>1</th>\n",
       "      <td>-88.707511</td>\n",
       "      <td>41.815454</td>\n",
       "      <td>0.3869</td>\n",
       "      <td>1.705882</td>\n",
       "      <td>-1.476471</td>\n",
       "      <td>-5.411765</td>\n",
       "      <td>85.888235</td>\n",
       "      <td>1.673529</td>\n",
       "      <td>corn</td>\n",
       "    </tr>\n",
       "    <tr>\n",
       "      <th>2</th>\n",
       "      <td>-88.707511</td>\n",
       "      <td>41.815454</td>\n",
       "      <td>0.2607</td>\n",
       "      <td>7.857143</td>\n",
       "      <td>1.678571</td>\n",
       "      <td>-4.142857</td>\n",
       "      <td>77.725000</td>\n",
       "      <td>0.516786</td>\n",
       "      <td>corn</td>\n",
       "    </tr>\n",
       "    <tr>\n",
       "      <th>3</th>\n",
       "      <td>-88.707511</td>\n",
       "      <td>41.815454</td>\n",
       "      <td>0.2353</td>\n",
       "      <td>7.857143</td>\n",
       "      <td>1.678571</td>\n",
       "      <td>-4.142857</td>\n",
       "      <td>77.725000</td>\n",
       "      <td>0.516786</td>\n",
       "      <td>corn</td>\n",
       "    </tr>\n",
       "    <tr>\n",
       "      <th>4</th>\n",
       "      <td>-88.707511</td>\n",
       "      <td>41.815454</td>\n",
       "      <td>0.2536</td>\n",
       "      <td>6.576923</td>\n",
       "      <td>2.757692</td>\n",
       "      <td>-1.153846</td>\n",
       "      <td>74.657692</td>\n",
       "      <td>1.993077</td>\n",
       "      <td>corn</td>\n",
       "    </tr>\n",
       "  </tbody>\n",
       "</table>\n",
       "</div>"
      ],
      "text/plain": [
       "   longitude   latitude    NDVI  Max Temp  Ave Temp  Min Temp  Ave Humidity  \\\n",
       "0 -88.707511  41.815454  0.2518  1.705882 -1.476471 -5.411765     85.888235   \n",
       "1 -88.707511  41.815454  0.3869  1.705882 -1.476471 -5.411765     85.888235   \n",
       "2 -88.707511  41.815454  0.2607  7.857143  1.678571 -4.142857     77.725000   \n",
       "3 -88.707511  41.815454  0.2353  7.857143  1.678571 -4.142857     77.725000   \n",
       "4 -88.707511  41.815454  0.2536  6.576923  2.757692 -1.153846     74.657692   \n",
       "\n",
       "   Rainfall Crop_Type  \n",
       "0  1.673529      corn  \n",
       "1  1.673529      corn  \n",
       "2  0.516786      corn  \n",
       "3  0.516786      corn  \n",
       "4  1.993077      corn  "
      ]
     },
     "execution_count": 2,
     "metadata": {},
     "output_type": "execute_result"
    }
   ],
   "source": [
    "# load the dataset\n",
    "# df = pd.read_csv(r'D:\\Final Year Project\\final project\\Dataset-1.csv')\n",
    "df = pd.read_csv(r'D:\\Final Year Project\\final project\\Dataset (Original).csv')\n",
    "# df = pd.read_csv(r'D:\\Final Year Project\\final project\\Dataset (Original1).csv') #longitude and latitude are remove\n",
    "df.head()\n",
    "\n",
    "\n"
   ]
  },
  {
   "cell_type": "code",
   "execution_count": 3,
   "id": "91eab607",
   "metadata": {},
   "outputs": [
    {
     "data": {
      "text/plain": [
       "(1048575, 7)"
      ]
     },
     "execution_count": 3,
     "metadata": {},
     "output_type": "execute_result"
    }
   ],
   "source": [
    "#check the dimension of dataset\n",
    "df.shape"
   ]
  },
  {
   "cell_type": "code",
   "execution_count": 4,
   "id": "6707d8b9",
   "metadata": {},
   "outputs": [],
   "source": [
    "# delete duplicate rows\n",
    "df.drop_duplicates(inplace=True)"
   ]
  },
  {
   "cell_type": "code",
   "execution_count": 5,
   "id": "f12ae865",
   "metadata": {},
   "outputs": [
    {
     "data": {
      "text/plain": [
       "(236670, 7)"
      ]
     },
     "execution_count": 5,
     "metadata": {},
     "output_type": "execute_result"
    }
   ],
   "source": [
    "#check the dimension of dataset\n",
    "df.shape"
   ]
  },
  {
   "cell_type": "code",
   "execution_count": 6,
   "id": "b601d044",
   "metadata": {},
   "outputs": [
    {
     "data": {
      "text/html": [
       "<div>\n",
       "<style scoped>\n",
       "    .dataframe tbody tr th:only-of-type {\n",
       "        vertical-align: middle;\n",
       "    }\n",
       "\n",
       "    .dataframe tbody tr th {\n",
       "        vertical-align: top;\n",
       "    }\n",
       "\n",
       "    .dataframe thead th {\n",
       "        text-align: right;\n",
       "    }\n",
       "</style>\n",
       "<table border=\"1\" class=\"dataframe\">\n",
       "  <thead>\n",
       "    <tr style=\"text-align: right;\">\n",
       "      <th></th>\n",
       "      <th>NDVI</th>\n",
       "      <th>Max Temp</th>\n",
       "      <th>Ave Temp</th>\n",
       "      <th>Min Temp</th>\n",
       "      <th>Ave Humidity</th>\n",
       "      <th>Rainfall</th>\n",
       "    </tr>\n",
       "  </thead>\n",
       "  <tbody>\n",
       "    <tr>\n",
       "      <th>count</th>\n",
       "      <td>236646.000000</td>\n",
       "      <td>236670.000000</td>\n",
       "      <td>236670.000000</td>\n",
       "      <td>236670.000000</td>\n",
       "      <td>236670.000000</td>\n",
       "      <td>236670.000000</td>\n",
       "    </tr>\n",
       "    <tr>\n",
       "      <th>mean</th>\n",
       "      <td>0.405153</td>\n",
       "      <td>18.435591</td>\n",
       "      <td>13.418899</td>\n",
       "      <td>8.266095</td>\n",
       "      <td>68.126936</td>\n",
       "      <td>1.705585</td>\n",
       "    </tr>\n",
       "    <tr>\n",
       "      <th>std</th>\n",
       "      <td>0.225452</td>\n",
       "      <td>9.339313</td>\n",
       "      <td>9.012335</td>\n",
       "      <td>8.983647</td>\n",
       "      <td>15.411030</td>\n",
       "      <td>1.587582</td>\n",
       "    </tr>\n",
       "    <tr>\n",
       "      <th>min</th>\n",
       "      <td>-0.192100</td>\n",
       "      <td>-14.708333</td>\n",
       "      <td>-9.266667</td>\n",
       "      <td>-10.083333</td>\n",
       "      <td>-56.762500</td>\n",
       "      <td>-0.190833</td>\n",
       "    </tr>\n",
       "    <tr>\n",
       "      <th>25%</th>\n",
       "      <td>0.243800</td>\n",
       "      <td>11.774194</td>\n",
       "      <td>4.848387</td>\n",
       "      <td>-0.903226</td>\n",
       "      <td>64.080645</td>\n",
       "      <td>0.314800</td>\n",
       "    </tr>\n",
       "    <tr>\n",
       "      <th>50%</th>\n",
       "      <td>0.361400</td>\n",
       "      <td>20.548387</td>\n",
       "      <td>14.838710</td>\n",
       "      <td>8.870968</td>\n",
       "      <td>70.741935</td>\n",
       "      <td>1.286452</td>\n",
       "    </tr>\n",
       "    <tr>\n",
       "      <th>75%</th>\n",
       "      <td>0.557500</td>\n",
       "      <td>25.545455</td>\n",
       "      <td>21.538710</td>\n",
       "      <td>15.233333</td>\n",
       "      <td>75.676000</td>\n",
       "      <td>2.506333</td>\n",
       "    </tr>\n",
       "    <tr>\n",
       "      <th>max</th>\n",
       "      <td>0.994000</td>\n",
       "      <td>31.500000</td>\n",
       "      <td>27.479167</td>\n",
       "      <td>23.625000</td>\n",
       "      <td>86.613636</td>\n",
       "      <td>6.825161</td>\n",
       "    </tr>\n",
       "  </tbody>\n",
       "</table>\n",
       "</div>"
      ],
      "text/plain": [
       "                NDVI       Max Temp       Ave Temp       Min Temp  \\\n",
       "count  236646.000000  236670.000000  236670.000000  236670.000000   \n",
       "mean        0.405153      18.435591      13.418899       8.266095   \n",
       "std         0.225452       9.339313       9.012335       8.983647   \n",
       "min        -0.192100     -14.708333      -9.266667     -10.083333   \n",
       "25%         0.243800      11.774194       4.848387      -0.903226   \n",
       "50%         0.361400      20.548387      14.838710       8.870968   \n",
       "75%         0.557500      25.545455      21.538710      15.233333   \n",
       "max         0.994000      31.500000      27.479167      23.625000   \n",
       "\n",
       "        Ave Humidity       Rainfall  \n",
       "count  236670.000000  236670.000000  \n",
       "mean       68.126936       1.705585  \n",
       "std        15.411030       1.587582  \n",
       "min       -56.762500      -0.190833  \n",
       "25%        64.080645       0.314800  \n",
       "50%        70.741935       1.286452  \n",
       "75%        75.676000       2.506333  \n",
       "max        86.613636       6.825161  "
      ]
     },
     "execution_count": 6,
     "metadata": {},
     "output_type": "execute_result"
    }
   ],
   "source": [
    "df.describe()"
   ]
  },
  {
   "cell_type": "code",
   "execution_count": 7,
   "id": "88d61817",
   "metadata": {},
   "outputs": [
    {
     "name": "stdout",
     "output_type": "stream",
     "text": [
      "<class 'pandas.core.frame.DataFrame'>\n",
      "Int64Index: 236670 entries, 0 to 1048574\n",
      "Data columns (total 7 columns):\n",
      " #   Column        Non-Null Count   Dtype  \n",
      "---  ------        --------------   -----  \n",
      " 0   NDVI          236646 non-null  float64\n",
      " 1   Max Temp      236670 non-null  float64\n",
      " 2   Ave Temp      236670 non-null  float64\n",
      " 3   Min Temp      236670 non-null  float64\n",
      " 4   Ave Humidity  236670 non-null  float64\n",
      " 5   Rainfall      236670 non-null  float64\n",
      " 6   Crop_Type     236670 non-null  object \n",
      "dtypes: float64(6), object(1)\n",
      "memory usage: 14.4+ MB\n"
     ]
    }
   ],
   "source": [
    "df.info()"
   ]
  },
  {
   "cell_type": "code",
   "execution_count": 8,
   "id": "37d6b27d",
   "metadata": {},
   "outputs": [],
   "source": [
    "#to clean the data we use this function\n",
    "df=df.dropna()"
   ]
  },
  {
   "cell_type": "code",
   "execution_count": 9,
   "id": "ebd9f7e5",
   "metadata": {},
   "outputs": [
    {
     "name": "stdout",
     "output_type": "stream",
     "text": [
      "Values of features means X\n",
      "            NDVI   Max Temp   Ave Temp  Min Temp  Ave Humidity  Rainfall\n",
      "0        0.2518   1.705882  -1.476471 -5.411765     85.888235  1.673529\n",
      "1        0.3869   1.705882  -1.476471 -5.411765     85.888235  1.673529\n",
      "2        0.2607   7.857143   1.678571 -4.142857     77.725000  0.516786\n",
      "3        0.2353   7.857143   1.678571 -4.142857     77.725000  0.516786\n",
      "4        0.2536   6.576923   2.757692 -1.153846     74.657692  1.993077\n",
      "...         ...        ...        ...       ...           ...       ...\n",
      "1048568  0.1601  12.000000   7.858065  4.225806     75.577419  3.589032\n",
      "1048569 -0.0153  12.000000   7.858065  4.225806     75.577419  3.589032\n",
      "1048571 -0.0592  15.838710  10.909677  6.322581     70.983871  6.825161\n",
      "1048573  0.2263  18.821429  13.078571  7.714286     63.475000  1.696071\n",
      "1048574  0.2369  19.419355  13.974194  8.870968     58.135484  2.195806\n",
      "\n",
      "[236646 rows x 6 columns]\n",
      "Values of output means y\n",
      " 0             corn\n",
      "1             corn\n",
      "2             corn\n",
      "3             corn\n",
      "4             corn\n",
      "            ...   \n",
      "1048568    barley \n",
      "1048569    barley \n",
      "1048571    barley \n",
      "1048573    barley \n",
      "1048574    barley \n",
      "Name: Crop_Type, Length: 236646, dtype: object\n"
     ]
    }
   ],
   "source": [
    "# prepare the training set\n",
    "# X  is feature columns except the last column which is output\n",
    "X=df.iloc[:, :-1]\n",
    "# y is output values\n",
    "y=df.iloc[:,-1]\n",
    "print(\"Values of features means X\\n\",X)\n",
    "print(\"Values of output means y\\n\",y)\n"
   ]
  },
  {
   "cell_type": "code",
   "execution_count": 10,
   "id": "b890c9de",
   "metadata": {},
   "outputs": [],
   "source": [
    "#visulize all the dataset\n",
    "# sns.pairplot(df,hue='Crop_Type')"
   ]
  },
  {
   "cell_type": "code",
   "execution_count": 11,
   "id": "eb8c05d8",
   "metadata": {},
   "outputs": [
    {
     "data": {
      "image/png": "[encoded data removed]",
      "text/plain": [
       "<Figure size 432x288 with 1 Axes>"
      ]
     },
     "metadata": {
      "needs_background": "light"
     },
     "output_type": "display_data"
    }
   ],
   "source": [
    "#plot the each feature with output crop\n",
    "plt.xlabel('Features')\n",
    "plt.ylabel('Crop types')\n",
    "\n",
    "# pltX=df.loc[:,'longitude']\n",
    "# pltY=df.loc[:,'Crop_Type']\n",
    "# plt.scatter(pltX,pltY, color='blue' ,label='longitude')\n",
    "\n",
    "# pltX=df.loc[:,'latitude']\n",
    "# pltY=df.loc[:,'Crop_Type']\n",
    "# plt.scatter(pltX,pltY, color='red' ,label='latitude')\n",
    "\n",
    "pltX=df.loc[:,'NDVI']\n",
    "pltY=df.loc[:,'Crop_Type']\n",
    "plt.scatter(pltX,pltY, color='green' ,label='NDVI')\n",
    "\n",
    "pltX=df.loc[:,'Max Temp']\n",
    "pltY=df.loc[:,'Crop_Type']\n",
    "plt.scatter(pltX,pltY, color='yellow' ,label='Max Temp')\n",
    "\n",
    "pltX=df.loc[:,'Ave Temp']\n",
    "pltY=df.loc[:,'Crop_Type']\n",
    "plt.scatter(pltX,pltY, color='purple' ,label='Ave Temp')\n",
    "\n",
    "pltX=df.loc[:,'Min Temp']\n",
    "pltY=df.loc[:,'Crop_Type']\n",
    "plt.scatter(pltX,pltY, color='violet' ,label='Min Temp')\n",
    "\n",
    "pltX=df.loc[:,'Ave Humidity']\n",
    "pltY=df.loc[:,'Crop_Type']\n",
    "plt.scatter(pltX,pltY, color='pink' ,label='Ave Humidity')\n",
    "\n",
    "\n",
    "pltX=df.loc[:,'Rainfall']\n",
    "pltY=df.loc[:,'Crop_Type']\n",
    "plt.scatter(pltX,pltY, color='black' ,label='Rainfall')\n",
    "\n",
    "plt.legend(loc=4,prop={'size':8})\n",
    "plt.show()"
   ]
  },
  {
   "cell_type": "code",
   "execution_count": 12,
   "id": "59d572b1",
   "metadata": {},
   "outputs": [
    {
     "name": "stdout",
     "output_type": "stream",
     "text": [
      "this is dataset after converting the pandas to numpy \n",
      " [[0.2518 1.705882353 -1.476470588 ... 85.88823529 1.673529412 'corn']\n",
      " [0.3869 1.705882353 -1.476470588 ... 85.88823529 1.673529412 'corn']\n",
      " [0.2607 7.857142857 1.678571429 ... 77.725 0.516785714 'corn']\n",
      " ...\n",
      " [-0.0592 15.83870968 10.90967742 ... 70.98387097 6.82516129 'barley ']\n",
      " [0.2263 18.82142857 13.07857143 ... 63.475 1.696071429 'barley ']\n",
      " [0.2369 19.41935484 13.97419355 ... 58.13548387 2.195806452 'barley ']]\n",
      "This is data type of our dataset\n",
      " <class 'numpy.ndarray'>\n"
     ]
    }
   ],
   "source": [
    "#slipt the data into training data(75%) and test data(25%)\n",
    "df= df.to_numpy()\n",
    "#converting the dataset pandas to numpy array ndarray\n",
    "print(\"this is dataset after converting the pandas to numpy \\n\",df)\n",
    "print(\"This is data type of our dataset\\n\",type(df))\n",
    "x_train,x_test,y_train,y_test=train_test_split(X,y,test_size=0.25,random_state=42)"
   ]
  },
  {
   "cell_type": "code",
   "execution_count": 13,
   "id": "6889a869",
   "metadata": {},
   "outputs": [],
   "source": [
    "# # Feature Scaling\n",
    "\n",
    "\n",
    "# sc = StandardScaler()\n",
    "# x_train = sc.fit_transform(x_train)\n",
    "# x_test = sc.transform(x_test)"
   ]
  },
  {
   "cell_type": "code",
   "execution_count": 14,
   "id": "be6e3d65",
   "metadata": {},
   "outputs": [
    {
     "name": "stderr",
     "output_type": "stream",
     "text": [
      "C:\\Users\\AL Makkah computer\\anaconda3\\lib\\site-packages\\sklearn\\linear_model\\_logistic.py:814: ConvergenceWarning: lbfgs failed to converge (status=1):\n",
      "STOP: TOTAL NO. of ITERATIONS REACHED LIMIT.\n",
      "\n",
      "Increase the number of iterations (max_iter) or scale the data as shown in:\n",
      "    https://scikit-learn.org/stable/modules/preprocessing.html\n",
      "Please also refer to the documentation for alternative solver options:\n",
      "    https://scikit-learn.org/stable/modules/linear_model.html#logistic-regression\n",
      "  n_iter_i = _check_optimize_result(\n"
     ]
    },
    {
     "data": {
      "text/plain": [
       "LogisticRegression()"
      ]
     },
     "execution_count": 14,
     "metadata": {},
     "output_type": "execute_result"
    }
   ],
   "source": [
    "#training the model\n",
    "model=LogisticRegression()\n",
    "model.fit(x_train,y_train) # train the model"
   ]
  },
  {
   "cell_type": "code",
   "execution_count": 15,
   "id": "2c63700a",
   "metadata": {},
   "outputs": [
    {
     "name": "stdout",
     "output_type": "stream",
     "text": [
      "              precision    recall  f1-score   support\n",
      "\n",
      "      barley       0.39      0.44      0.41      4084\n",
      "     barley        0.00      0.00      0.00      2183\n",
      "        corn       0.34      0.22      0.27      9878\n",
      "      cotton       0.47      0.69      0.56     13336\n",
      "         soy       0.34      0.22      0.26     10558\n",
      "spring wheat       0.38      0.50      0.43     10797\n",
      "winter wheat       0.83      0.72      0.77      8326\n",
      "\n",
      "    accuracy                           0.45     59162\n",
      "   macro avg       0.39      0.40      0.39     59162\n",
      "weighted avg       0.44      0.45      0.43     59162\n",
      "\n",
      "Accuracy of algorithm logisticregression:\n",
      " 45.28413508671106\n"
     ]
    }
   ],
   "source": [
    "#test the model\n",
    "predictions=model.predict(x_test)\n",
    "#check precision,recall,f1 score\n",
    "print(classification_report(y_test,predictions))\n",
    "# check the accuracy of algorithms\n",
    "print(\"Accuracy of algorithm logisticregression:\\n\",accuracy_score(y_test,predictions)*100)\n",
    "# print(predictions),predictions\n",
    "# print(y_test)"
   ]
  },
  {
   "cell_type": "code",
   "execution_count": 21,
   "id": "a44a339c",
   "metadata": {},
   "outputs": [
    {
     "data": {
      "text/plain": [
       "array(['cotton', 'spring wheat', 'spring wheat', 'soy', 'spring wheat',\n",
       "       'spring wheat'], dtype=object)"
      ]
     },
     "execution_count": 21,
     "metadata": {},
     "output_type": "execute_result"
    }
   ],
   "source": [
    "predictions[0:6]"
   ]
  },
  {
   "cell_type": "code",
   "execution_count": 22,
   "id": "9748a81f",
   "metadata": {},
   "outputs": [
    {
     "data": {
      "text/html": [
       "<div>\n",
       "<style scoped>\n",
       "    .dataframe tbody tr th:only-of-type {\n",
       "        vertical-align: middle;\n",
       "    }\n",
       "\n",
       "    .dataframe tbody tr th {\n",
       "        vertical-align: top;\n",
       "    }\n",
       "\n",
       "    .dataframe thead th {\n",
       "        text-align: right;\n",
       "    }\n",
       "</style>\n",
       "<table border=\"1\" class=\"dataframe\">\n",
       "  <thead>\n",
       "    <tr style=\"text-align: right;\">\n",
       "      <th></th>\n",
       "      <th>NDVI</th>\n",
       "      <th>Max Temp</th>\n",
       "      <th>Ave Temp</th>\n",
       "      <th>Min Temp</th>\n",
       "      <th>Ave Humidity</th>\n",
       "      <th>Rainfall</th>\n",
       "    </tr>\n",
       "  </thead>\n",
       "  <tbody>\n",
       "    <tr>\n",
       "      <th>329945</th>\n",
       "      <td>0.4300</td>\n",
       "      <td>28.000000</td>\n",
       "      <td>22.000000</td>\n",
       "      <td>15.233333</td>\n",
       "      <td>68.563333</td>\n",
       "      <td>2.506333</td>\n",
       "    </tr>\n",
       "    <tr>\n",
       "      <th>10251</th>\n",
       "      <td>0.5240</td>\n",
       "      <td>22.875000</td>\n",
       "      <td>18.341667</td>\n",
       "      <td>12.041667</td>\n",
       "      <td>77.025000</td>\n",
       "      <td>0.264783</td>\n",
       "    </tr>\n",
       "    <tr>\n",
       "      <th>194224</th>\n",
       "      <td>0.7257</td>\n",
       "      <td>27.680000</td>\n",
       "      <td>23.480000</td>\n",
       "      <td>18.120000</td>\n",
       "      <td>71.396000</td>\n",
       "      <td>0.314800</td>\n",
       "    </tr>\n",
       "    <tr>\n",
       "      <th>284723</th>\n",
       "      <td>0.3798</td>\n",
       "      <td>15.560000</td>\n",
       "      <td>11.436000</td>\n",
       "      <td>7.240000</td>\n",
       "      <td>75.676000</td>\n",
       "      <td>2.895600</td>\n",
       "    </tr>\n",
       "    <tr>\n",
       "      <th>485125</th>\n",
       "      <td>0.3841</td>\n",
       "      <td>23.428571</td>\n",
       "      <td>18.828571</td>\n",
       "      <td>14.142857</td>\n",
       "      <td>69.489286</td>\n",
       "      <td>0.861786</td>\n",
       "    </tr>\n",
       "    <tr>\n",
       "      <th>13656</th>\n",
       "      <td>0.5144</td>\n",
       "      <td>22.875000</td>\n",
       "      <td>18.341667</td>\n",
       "      <td>12.041667</td>\n",
       "      <td>77.025000</td>\n",
       "      <td>0.264783</td>\n",
       "    </tr>\n",
       "  </tbody>\n",
       "</table>\n",
       "</div>"
      ],
      "text/plain": [
       "          NDVI   Max Temp   Ave Temp   Min Temp  Ave Humidity  Rainfall\n",
       "329945  0.4300  28.000000  22.000000  15.233333     68.563333  2.506333\n",
       "10251   0.5240  22.875000  18.341667  12.041667     77.025000  0.264783\n",
       "194224  0.7257  27.680000  23.480000  18.120000     71.396000  0.314800\n",
       "284723  0.3798  15.560000  11.436000   7.240000     75.676000  2.895600\n",
       "485125  0.3841  23.428571  18.828571  14.142857     69.489286  0.861786\n",
       "13656   0.5144  22.875000  18.341667  12.041667     77.025000  0.264783"
      ]
     },
     "execution_count": 22,
     "metadata": {},
     "output_type": "execute_result"
    }
   ],
   "source": [
    "x_test[0:6]"
   ]
  },
  {
   "cell_type": "code",
   "execution_count": 32,
   "id": "a7e64e4f",
   "metadata": {},
   "outputs": [
    {
     "name": "stdout",
     "output_type": "stream",
     "text": [
      "Feature : 0 has score  : -47.18050533971363 \n",
      "Feature : 1 has score  : -36.0616292237538 \n",
      "Feature : 2 has score  : -20.282718902214867 \n",
      "Feature : 3 has score  : 7.305044158323187 \n",
      "Feature : 4 has score  : 65.93208096090949 \n",
      "Feature : 5 has score  : 76.0634297924222 \n"
     ]
    }
   ],
   "source": [
    "importance=model.coef_[0]\n",
    "importance=np.sort(importance)\n",
    "for index,val in enumerate(importance):\n",
    "    print(\"Feature : {} has score  : {} \".format(index,val*100))"
   ]
  },
  {
   "cell_type": "code",
   "execution_count": 23,
   "id": "0c773462",
   "metadata": {},
   "outputs": [
    {
     "data": {
      "text/plain": [
       "329945            corn\n",
       "10251             corn\n",
       "194224    spring wheat\n",
       "284723            corn\n",
       "485125          cotton\n",
       "13656             corn\n",
       "Name: Crop_Type, dtype: object"
      ]
     },
     "execution_count": 23,
     "metadata": {},
     "output_type": "execute_result"
    }
   ],
   "source": [
    "y_test[0:6]"
   ]
  },
  {
   "cell_type": "code",
   "execution_count": 33,
   "id": "d2879745",
   "metadata": {},
   "outputs": [
    {
     "data": {
      "image/png": "[encoded data removed]",
      "text/plain": [
       "<Figure size 432x288 with 1 Axes>"
      ]
     },
     "metadata": {},
     "output_type": "display_data"
    }
   ],
   "source": [
    "#plotting the features and their score in ascending order\n",
    "sns.set_style(\"darkgrid\")\n",
    "plt.bar([i for i in range (len(importance))],importance)\n",
    "plt.show()"
   ]
  },
  {
   "cell_type": "code",
   "execution_count": null,
   "id": "bc611002",
   "metadata": {},
   "outputs": [],
   "source": []
  }
 ],
 "metadata": {
  "kernelspec": {
   "display_name": "Python 3 (ipykernel)",
   "language": "python",
   "name": "python3"
  },
  "language_info": {
   "codemirror_mode": {
    "name": "ipython",
    "version": 3
   },
   "file_extension": ".py",
   "mimetype": "text/x-python",
   "name": "python",
   "nbconvert_exporter": "python",
   "pygments_lexer": "ipython3",
   "version": "3.9.12"
  }
 },
 "nbformat": 4,
 "nbformat_minor": 5
}
